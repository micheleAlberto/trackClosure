{
 "metadata": {
  "name": ""
 },
 "nbformat": 3,
 "nbformat_minor": 0,
 "worksheets": [
  {
   "cells": [
    {
     "cell_type": "code",
     "collapsed": false,
     "input": [
      "import numpy as np\n",
      "import matplotlib.pyplot as plt\n",
      "from random import random\n",
      "from math import cos\n",
      "from sklearn import linear_model\n",
      "from sklearn import datasets\n",
      "from sklearn.svm import l1_min_c\n",
      "from sklearn import svm\n",
      "from collections import Counter\n",
      "from sklearn import tree\n",
      "\n",
      "def genX(n,l=5,scale=1.):\n",
      "    return [[random()*scale for i in range(l)] for j in range(n)]\n",
      "def mapY(xx):\n",
      "    n=len(xx)\n",
      "    s=sum( cos(i)*xxx +sin(i)*xx[(i+7)%n]*xx[(i+3)%n]*xx[(i+5)%n] for i,xxx in enumerate(xx) )\n",
      "    return 1 if s>0. else 0\n",
      "def preProcX(xx):\n",
      "    xxn=list(xx)\n",
      "    xxn=[i*j for i in xxn for j in xxn ]\n",
      "    return xxn\n",
      "def val(o,p):\n",
      "    if p==o:\n",
      "        return True\n",
      "    elif o and not p:\n",
      "        return 'fn'\n",
      "    else :\n",
      "        return 'fp'\n",
      "    "
     ],
     "language": "python",
     "metadata": {},
     "outputs": [],
     "prompt_number": 2
    },
    {
     "cell_type": "code",
     "collapsed": false,
     "input": [
      "import transclosureMergeValidation as mv\n",
      "reload(mv)\n",
      "gen=mv.Generator()\n",
      "gen.genPoints('abc',5)\n",
      "XY=gen.genExcludeCases(100)\n",
      "X=np.array([list(xy[0]) for xy in XY])\n",
      "Y=np.array([xy[1] for xy in XY])\n",
      "print X,Y\n"
     ],
     "language": "python",
     "metadata": {},
     "outputs": [
      {
       "output_type": "stream",
       "stream": "stdout",
       "text": [
        "[[ 0  0  0  0]\n",
        " [ 0  0  0  0]\n",
        " [ 0  0  0  0]\n",
        " [ 0  0  0  0]\n",
        " [ 0  0  0  0]\n",
        " [ 0  0  0  0]\n",
        " [ 0  0  0  0]\n",
        " [ 0  0  0  0]\n",
        " [ 0  0  0  0]\n",
        " [ 0  0  0  0]\n",
        " [ 0  0  0  0]\n",
        " [ 0  0  0  0]\n",
        " [ 0  0  0  0]\n",
        " [ 0  0  0  0]\n",
        " [ 0  0  0  0]\n",
        " [ 0  0  0  0]\n",
        " [ 0  0  0  0]\n",
        " [ 0  0  0  0]\n",
        " [ 3  0  7  0]\n",
        " [ 0  0  7  0]\n",
        " [ 4  0  7  0]\n",
        " [ 4  0  7  0]\n",
        " [ 4  0  7  0]\n",
        " [ 0  0  7  0]\n",
        " [ 0  0  7  0]\n",
        " [ 5  0  7  0]\n",
        " [ 5  0 12  0]\n",
        " [ 5  0 12  0]\n",
        " [ 0  0 12  0]\n",
        " [ 0  0 12  0]\n",
        " [ 7  0 12  0]\n",
        " [ 5  0 12  0]\n",
        " [ 5  0 12  0]\n",
        " [ 0  0 12  0]\n",
        " [ 7  0 12  0]\n",
        " [ 0  0 12  0]\n",
        " [ 0  0 12  0]\n",
        " [ 0  0  2  0]\n",
        " [ 1  0  2  0]\n",
        " [ 1  0  2  0]\n",
        " [ 0  0  2  0]\n",
        " [ 1  0  2  0]\n",
        " [ 1  0  2  0]\n",
        " [ 0  0  2  0]\n",
        " [ 0  0  2  0]\n",
        " [ 5  0 12  0]\n",
        " [ 7  0 12  0]\n",
        " [ 5  0 12  0]\n",
        " [ 0  0 12  0]\n",
        " [ 0  0 12  0]\n",
        " [ 0  0 12  0]\n",
        " [ 5  0 12  0]\n",
        " [ 0  0 12  0]\n",
        " [ 5  0 12  0]\n",
        " [ 0  0 12  0]\n",
        " [ 7  0 12  0]\n",
        " [ 4  0  7  0]\n",
        " [ 0  0  7  0]\n",
        " [ 0  0  7  0]\n",
        " [ 0  0  7  0]\n",
        " [ 5  0  7  0]\n",
        " [ 3  0  7  0]\n",
        " [ 4  0  7  0]\n",
        " [ 0  0  7  0]\n",
        " [ 4  0  7  0]\n",
        " [ 0  0  0  0]\n",
        " [ 0  0  0  0]\n",
        " [ 0  0  0  0]\n",
        " [ 0  0  0  0]\n",
        " [ 0  0  0  0]\n",
        " [ 0  0  0  0]\n",
        " [ 0  0  0  0]\n",
        " [ 2  0  3  0]\n",
        " [ 0  0  3  0]\n",
        " [ 0  0  3  0]\n",
        " [ 2  0  3  0]\n",
        " [ 2  0  3  0]\n",
        " [ 0  0  3  0]\n",
        " [ 2  0  3  0]\n",
        " [ 0  0  3  0]\n",
        " [ 0  0  3  0]\n",
        " [ 0  0  0  0]\n",
        " [ 0  0  0  0]\n",
        " [ 0  0  0  0]\n",
        " [ 0  0  0  0]\n",
        " [ 0  0  0  0]\n",
        " [ 0  0  0  0]\n",
        " [ 0  0  0  0]\n",
        " [ 0  0  0  0]\n",
        " [ 0  0  0  0]\n",
        " [ 0  0  2  0]\n",
        " [ 0  0  2  0]\n",
        " [ 0  0  2  0]\n",
        " [ 1  0  2  0]\n",
        " [ 1  0  2  0]\n",
        " [ 0  0  2  0]\n",
        " [ 0  0  2  0]\n",
        " [ 0  0  2  0]\n",
        " [ 0  0  2  0]\n",
        " [ 1  0  2  0]\n",
        " [ 1  0  2  0]] [False  True False False False False False False False  True False False\n",
        "  True False False False False False False False  True False False False\n",
        " False False False False  True  True False False False  True False  True\n",
        "  True False  True False False False False False False False False  True\n",
        " False  True  True False  True False False  True False False  True False\n",
        " False False False False False False False False  True False False False\n",
        " False  True False  True False  True False False False False False  True\n",
        " False False False  True False  True  True False  True False  True False\n",
        " False False  True False False]\n"
       ]
      }
     ],
     "prompt_number": 14
    },
    {
     "cell_type": "code",
     "collapsed": false,
     "input": [
      "import transclosureMergeValidation as mv\n",
      "reload(mv)\n",
      "gen=mv.Generator()\n",
      "gen.genPoints('abc',5)\n",
      "\n",
      "nt=10000\n",
      "nv=4000\n",
      "XY=gen.genExcludeCases(nt)\n",
      "X=np.array([list(xy[0]) for xy in XY])\n",
      "Y=np.array([xy[1] for xy in XY])\n",
      "nt=len(X)\n",
      "XYv=gen.genExcludeCases(nv)\n",
      "Xv=np.array([list(xy[0]) for xy in XYv])\n",
      "Yv=np.array([xy[1] for xy in XYv])\n",
      "nv=len(Xv)\n",
      "\n",
      "MLtools={\n",
      "      'lrl2':lambda : linear_model.LogisticRegression(C=1000, penalty='l2', tol=1e-6),\n",
      "      'lrl1':lambda : linear_model.LogisticRegression(C=1000, penalty='l1', tol=1e-6),\n",
      "      'scv-rbf':lambda : svm.SVC(),\n",
      "      'scv-lin':lambda : svm.SVC(kernel='linear'),\n",
      "      'scv-sig':lambda : svm.SVC(kernel='sigmoid'),\n",
      "      'tree'   :lambda : tree.DecisionTreeClassifier()}\n",
      "Stat={}\n",
      "Models={}\n",
      "for method in MLtools:\n",
      "    print 'training '+method\n",
      "    tool=MLtools[method]()\n",
      "    classifier=tool.fit(X, Y)\n",
      "    Models[method]=classifier \n",
      "for model in Models:\n",
      "    classifier=Models[model]\n",
      "    sbagliati=Counter([val(Yv[i],classifier.predict(Xv[i])) for i in range(len(Xv))])\n",
      "    Stat[model]=sbagliati\n",
      "    print model\n",
      "    print {name:float(sbagliati[name])/nv for name in sorted(sbagliati)}\n"
     ],
     "language": "python",
     "metadata": {},
     "outputs": [
      {
       "output_type": "stream",
       "stream": "stdout",
       "text": [
        "training scv-lin\n",
        "training tree"
       ]
      },
      {
       "output_type": "stream",
       "stream": "stdout",
       "text": [
        "\n",
        "training scv-sig\n",
        "training lrl2"
       ]
      },
      {
       "output_type": "stream",
       "stream": "stdout",
       "text": [
        "\n",
        "training scv-rbf\n",
        "training lrl1"
       ]
      },
      {
       "output_type": "stream",
       "stream": "stdout",
       "text": [
        "\n",
        "scv-lin"
       ]
      },
      {
       "output_type": "stream",
       "stream": "stdout",
       "text": [
        "\n",
        "{True: 0.7794705294705294, 'fn': 0.22052947052947053}\n",
        "tree"
       ]
      },
      {
       "output_type": "stream",
       "stream": "stdout",
       "text": [
        "\n",
        "{'fp': 0.03771228771228771, True: 0.7872127872127872, 'fn': 0.1750749250749251}\n",
        "scv-sig"
       ]
      },
      {
       "output_type": "stream",
       "stream": "stdout",
       "text": [
        "\n",
        "{True: 0.7794705294705294, 'fn': 0.22052947052947053}\n",
        "lrl2"
       ]
      },
      {
       "output_type": "stream",
       "stream": "stdout",
       "text": [
        "\n",
        "{'fp': 0.013986013986013986, True: 0.776973026973027, 'fn': 0.20904095904095904}\n",
        "scv-rbf"
       ]
      },
      {
       "output_type": "stream",
       "stream": "stdout",
       "text": [
        "\n",
        "{'fp': 0.03496503496503497, True: 0.7874625374625375, 'fn': 0.17757242757242758}\n",
        "lrl1"
       ]
      },
      {
       "output_type": "stream",
       "stream": "stdout",
       "text": [
        "\n",
        "{'fp': 0.013986013986013986, True: 0.776973026973027, 'fn': 0.20904095904095904}\n"
       ]
      }
     ],
     "prompt_number": 17
    },
    {
     "cell_type": "code",
     "collapsed": false,
     "input": [
      "for model in Models:\n",
      "    classifier=Models[model]\n",
      "    sbagliati=Counter([val(Yv[i],classifier.predict(Xv[i])) for i in range(len(Xv))])\n",
      "    Stat[model]=sbagliati\n",
      "    print model\n",
      "    print {name:float(sbagliati[name])/nv for name in sorted(sbagliati)}"
     ],
     "language": "python",
     "metadata": {},
     "outputs": [
      {
       "output_type": "stream",
       "stream": "stdout",
       "text": [
        "scv-lin\n",
        "{True: 0.7794705294705294, 'fn': 0.22052947052947053}\n",
        "tree"
       ]
      },
      {
       "output_type": "stream",
       "stream": "stdout",
       "text": [
        "\n",
        "{'fp': 0.03771228771228771, True: 0.7872127872127872, 'fn': 0.1750749250749251}\n",
        "scv-sig"
       ]
      },
      {
       "output_type": "stream",
       "stream": "stdout",
       "text": [
        "\n",
        "{True: 0.7794705294705294, 'fn': 0.22052947052947053}\n",
        "lrl2"
       ]
      },
      {
       "output_type": "stream",
       "stream": "stdout",
       "text": [
        "\n",
        "{'fp': 0.013986013986013986, True: 0.776973026973027, 'fn': 0.20904095904095904}\n",
        "scv-rbf"
       ]
      },
      {
       "output_type": "stream",
       "stream": "stdout",
       "text": [
        "\n",
        "{'fp': 0.03496503496503497, True: 0.7874625374625375, 'fn': 0.17757242757242758}\n",
        "lrl1"
       ]
      },
      {
       "output_type": "stream",
       "stream": "stdout",
       "text": [
        "\n",
        "{'fp': 0.013986013986013986, True: 0.776973026973027, 'fn': 0.20904095904095904}\n"
       ]
      }
     ],
     "prompt_number": 18
    },
    {
     "cell_type": "code",
     "collapsed": false,
     "input": [],
     "language": "python",
     "metadata": {},
     "outputs": []
    }
   ],
   "metadata": {}
  }
 ]
}