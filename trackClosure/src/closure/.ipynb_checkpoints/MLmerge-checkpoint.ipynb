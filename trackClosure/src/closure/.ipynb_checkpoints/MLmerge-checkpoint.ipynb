{
 "metadata": {
  "name": ""
 },
 "nbformat": 3,
 "nbformat_minor": 0,
 "worksheets": [
  {
   "cells": [
    {
     "cell_type": "code",
     "collapsed": false,
     "input": [
      "import numpy as np\n",
      "import matplotlib.pyplot as plt\n",
      "from random import random\n",
      "from math import cos\n",
      "from sklearn import linear_model\n",
      "from sklearn import datasets\n",
      "from sklearn.svm import l1_min_c\n",
      "from sklearn import svm\n",
      "from collections import Counter\n",
      "from sklearn import tree\n",
      "\n",
      "def genX(n,l=5,scale=1.):\n",
      "    return [[random()*scale for i in range(l)] for j in range(n)]\n",
      "def mapY(xx):\n",
      "    n=len(xx)\n",
      "    s=sum( cos(i)*xxx +sin(i)*xx[(i+7)%n]*xx[(i+3)%n]*xx[(i+5)%n] for i,xxx in enumerate(xx) )\n",
      "    return 1 if s>0. else 0\n",
      "def preProcX(xx):\n",
      "    xxn=list(xx)\n",
      "    xxn=[i*j for i in xxn for j in xxn ]\n",
      "    return xxn\n",
      "def val(o,p):\n",
      "    if p==o:\n",
      "        return True\n",
      "    elif o and not p:\n",
      "        return 'fn'\n",
      "    else :\n",
      "        return 'fp'"
     ],
     "language": "python",
     "metadata": {},
     "outputs": [],
     "prompt_number": 216
    },
    {
     "cell_type": "code",
     "collapsed": false,
     "input": [
      "import transclosureMergeValidation as mv\n",
      "reload(mv)\n",
      "gen=mv.Generator()\n",
      "gen.genPoints('ab',3)\n",
      "b=0.9\n",
      "nt=10000\n",
      "nv=1000\n",
      "Xt=[]\n",
      "yt=[]\n",
      "Xv=[]\n",
      "yv=[]\n",
      "for i in range(nt):\n",
      "    x,y=gen.genMergeCase(blame=b)\n",
      "    Xt+=[list(x)+[1.]]\n",
      "    yt+=[y]\n",
      "gen=mv.Generator()\n",
      "gen.genPoints('ab',9)\n",
      "for i in range(nv):\n",
      "    x,y=gen.genMergeCase(blame=b)\n",
      "    Xv+=[list(x)+[1.]]\n",
      "    yv+=[y]\n",
      "\n",
      "Xtd = map(preProcX,Xt)\n",
      "Xvd = map(preProcX,Xv)\n",
      "c=1000.\n",
      "lra = linear_model.LogisticRegression(C=c, penalty='l2', tol=1e-6)\n",
      "A=lra.fit(Xt, yt)\n",
      "sbagliatiA=sum(bool(A.predict(Xv[i])!=yv[i]) for i in range(len(Xv)))\n",
      "lrb = linear_model.LogisticRegression(C=c, penalty='l2', tol=1e-6)\n",
      "B=lrb.fit(Xtd, yt)\n",
      "sbagliatiB=sum(bool(B.predict(Xvd[i])!=yv[i]) for i in range(len(Xv)))\n",
      "clf = svm.SVC()\n",
      "C=clf.fit(Xt, yt)\n",
      "sbagliatiC=sum(bool(C.predict(Xv[i])!=yv[i]) for i in range(len(Xv)))\n",
      "clf = svm.SVC(kernel='linear')\n",
      "D=clf.fit(Xt, yt)\n",
      "sbagliatiD=sum(bool(D.predict(Xv[i])!=yv[i]) for i in range(len(Xv)))\n",
      "clf = svm.SVC(kernel='sigmoid')\n",
      "E=clf.fit(Xt, yt)\n",
      "sbagliatiE=sum(bool(E.predict(Xv[i])!=yv[i]) for i in range(len(Xv)))\n",
      "print sbagliatiA,sbagliatiB,sbagliatiC,sbagliatiD,sbagliatiE"
     ],
     "language": "python",
     "metadata": {},
     "outputs": [
      {
       "output_type": "stream",
       "stream": "stdout",
       "text": [
        "315 320 320 318 320\n"
       ]
      }
     ],
     "prompt_number": 26
    },
    {
     "cell_type": "code",
     "collapsed": false,
     "input": [
      "%pylab\n",
      "print A.coef_\n",
      "Bc=B.coef_.copy()\n",
      "Bc.shape=(5,5)\n",
      "print Bc\n"
     ],
     "language": "python",
     "metadata": {},
     "outputs": [
      {
       "output_type": "stream",
       "stream": "stdout",
       "text": [
        "Using matplotlib backend: TkAgg\n",
        "Populating the interactive namespace from numpy and matplotlib\n",
        "[[ 0.84341741 -0.09480846 -0.80980638 -0.07770816  1.3758357 ]]\n",
        "[[ 0.32899902 -0.74823629  1.07248129 -1.95409726  2.23130013]\n",
        " [-0.74823629 -0.74823629  0.98354965 -0.17097431  0.57726198]\n",
        " [ 1.07248129  0.98354965 -2.49802999  1.00378486  1.31585606]\n",
        " [-1.95409726 -0.17097431  1.00378486 -0.25262085 -0.07983172]\n",
        " [ 2.23130013  0.57726198  1.31585606 -0.07983172  1.47227328]]\n"
       ]
      },
      {
       "output_type": "stream",
       "stream": "stderr",
       "text": [
        "WARNING: pylab import has clobbered these variables: ['clf']\n",
        "`%pylab --no-import-all` prevents importing * from pylab and numpy\n"
       ]
      }
     ],
     "prompt_number": 22
    },
    {
     "cell_type": "code",
     "collapsed": false,
     "input": [
      "import transclosureMergeValidation as mv\n",
      "reload(mv)\n",
      "gen=mv.Generator()\n",
      "gen.genPoints('ab',5)\n",
      "\n",
      "nt=10000\n",
      "nv=1000\n",
      "Xt=[]\n",
      "yt=[]\n",
      "Xv=[]\n",
      "yv=[]\n",
      "for i in range(nt):\n",
      "    x,y=gen.genMergeCase(blame=b)\n",
      "    Xt+=[list(x)+[1.]]\n",
      "    yt+=[y]\n",
      "for i in range(nv):\n",
      "    x,y=gen.genMergeCase(blame=b)\n",
      "    Xv+=[list(x)+[1.]]\n",
      "    yv+=[y]\n",
      "    \n",
      "MLtools={\n",
      "      'lrl2':lambda : linear_model.LogisticRegression(C=c, penalty='l2', tol=1e-6),\n",
      "      'lrl1':lambda : linear_model.LogisticRegression(C=c, penalty='l1', tol=1e-6),\n",
      "      'scv-rbf':lambda : svm.SVC(),\n",
      "      'scv-lin':lambda : svm.SVC(kernel='linear'),\n",
      "      'scv-sig':lambda : svm.SVC(kernel='sigmoid'),\n",
      "      'tree'   :lambda : tree.DecisionTreeClassifier()}\n",
      "Stat={}\n",
      "Models={}\n",
      "Bs=np.logspace(log10(0.1),log10(0.9))\n",
      "for method in MLtools:\n",
      "    for b in Bs:\n",
      "        print method,b\n",
      "        c=1000.\n",
      "        tool=MLtools[method]()\n",
      "        A=tool.fit(Xt, yt)\n",
      "        sbagliati=Counter([val(yv[i],A.predict(Xv[i])) for i in range(len(Xv))])\n",
      "        Stat[(method,b)]=sbagliati\n",
      "        Models[(method,b)]=A    \n",
      "    print Stat"
     ],
     "language": "python",
     "metadata": {},
     "outputs": [
      {
       "output_type": "stream",
       "stream": "stdout",
       "text": [
        "scv-lin 0.1\n",
        "scv-lin"
       ]
      },
      {
       "output_type": "stream",
       "stream": "stdout",
       "text": [
        " 0.104586188719\n",
        "scv-lin"
       ]
      },
      {
       "output_type": "stream",
       "stream": "stdout",
       "text": [
        " 0.109382708707\n",
        "scv-lin"
       ]
      },
      {
       "output_type": "stream",
       "stream": "stdout",
       "text": [
        " 0.114399206153\n",
        "scv-lin"
       ]
      },
      {
       "output_type": "stream",
       "stream": "stdout",
       "text": [
        " 0.11964576964\n",
        "scv-lin"
       ]
      },
      {
       "output_type": "stream",
       "stream": "stdout",
       "text": [
        " 0.125132950429\n",
        "scv-lin"
       ]
      },
      {
       "output_type": "stream",
       "stream": "stdout",
       "text": [
        " 0.130871783685\n",
        "scv-lin"
       ]
      },
      {
       "output_type": "stream",
       "stream": "stdout",
       "text": [
        " 0.136873810664\n",
        "scv-lin"
       ]
      },
      {
       "output_type": "stream",
       "stream": "stdout",
       "text": [
        " 0.143151101927\n",
        "scv-lin"
       ]
      },
      {
       "output_type": "stream",
       "stream": "stdout",
       "text": [
        " 0.149716281615\n",
        "scv-lin"
       ]
      },
      {
       "output_type": "stream",
       "stream": "stdout",
       "text": [
        " 0.156582552832\n",
        "scv-lin"
       ]
      },
      {
       "output_type": "stream",
       "stream": "stdout",
       "text": [
        " 0.163763724205\n",
        "scv-lin"
       ]
      },
      {
       "output_type": "stream",
       "stream": "stdout",
       "text": [
        " 0.171274237649\n",
        "scv-lin"
       ]
      },
      {
       "output_type": "stream",
       "stream": "stdout",
       "text": [
        " 0.179129197414\n",
        "scv-lin"
       ]
      },
      {
       "output_type": "stream",
       "stream": "stdout",
       "text": [
        " 0.187344400457\n",
        "scv-lin"
       ]
      },
      {
       "output_type": "stream",
       "stream": "stdout",
       "text": [
        " 0.195936368216\n",
        "scv-lin"
       ]
      },
      {
       "output_type": "stream",
       "stream": "stdout",
       "text": [
        " 0.204922379831\n",
        "scv-lin"
       ]
      },
      {
       "output_type": "stream",
       "stream": "stdout",
       "text": [
        " 0.214320506896\n",
        "scv-lin"
       ]
      },
      {
       "output_type": "stream",
       "stream": "stdout",
       "text": [
        " 0.224149649805\n",
        "scv-lin"
       ]
      },
      {
       "output_type": "stream",
       "stream": "stdout",
       "text": [
        " 0.234429575757\n",
        "scv-lin"
       ]
      },
      {
       "output_type": "stream",
       "stream": "stdout",
       "text": [
        " 0.245180958513\n",
        "scv-lin"
       ]
      },
      {
       "output_type": "stream",
       "stream": "stdout",
       "text": [
        " 0.256425419972\n",
        "scv-lin"
       ]
      },
      {
       "output_type": "stream",
       "stream": "stdout",
       "text": [
        " 0.268185573654\n",
        "scv-lin"
       ]
      },
      {
       "output_type": "stream",
       "stream": "stdout",
       "text": [
        " 0.280485070178\n",
        "scv-lin"
       ]
      },
      {
       "output_type": "stream",
       "stream": "stdout",
       "text": [
        " 0.293348644823\n",
        "scv-lin"
       ]
      },
      {
       "output_type": "stream",
       "stream": "stdout",
       "text": [
        " 0.306802167278\n",
        "scv-lin"
       ]
      },
      {
       "output_type": "stream",
       "stream": "stdout",
       "text": [
        " 0.320872693662\n",
        "scv-lin"
       ]
      },
      {
       "output_type": "stream",
       "stream": "stdout",
       "text": [
        " 0.33558852094\n",
        "scv-lin"
       ]
      },
      {
       "output_type": "stream",
       "stream": "stdout",
       "text": [
        " 0.350979243828\n",
        "scv-lin"
       ]
      },
      {
       "output_type": "stream",
       "stream": "stdout",
       "text": [
        " 0.367075814312\n",
        "scv-lin"
       ]
      },
      {
       "output_type": "stream",
       "stream": "stdout",
       "text": [
        " 0.383910603897\n",
        "scv-lin"
       ]
      },
      {
       "output_type": "stream",
       "stream": "stdout",
       "text": [
        " 0.401517468702\n",
        "scv-lin"
       ]
      },
      {
       "output_type": "stream",
       "stream": "stdout",
       "text": [
        " 0.419931817554\n",
        "scv-lin"
       ]
      },
      {
       "output_type": "stream",
       "stream": "stdout",
       "text": [
        " 0.439190683196\n",
        "scv-lin"
       ]
      },
      {
       "output_type": "stream",
       "stream": "stdout",
       "text": [
        " 0.459332796762\n",
        "scv-lin"
       ]
      },
      {
       "output_type": "stream",
       "stream": "stdout",
       "text": [
        " 0.480398665667\n",
        "scv-lin"
       ]
      },
      {
       "output_type": "stream",
       "stream": "stdout",
       "text": [
        " 0.502430655076\n",
        "scv-lin"
       ]
      },
      {
       "output_type": "stream",
       "stream": "stdout",
       "text": [
        " 0.525473073097\n",
        "scv-lin"
       ]
      },
      {
       "output_type": "stream",
       "stream": "stdout",
       "text": [
        " 0.549572259895\n",
        "scv-lin"
       ]
      },
      {
       "output_type": "stream",
       "stream": "stdout",
       "text": [
        " 0.574776680878\n",
        "scv-lin"
       ]
      },
      {
       "output_type": "stream",
       "stream": "stdout",
       "text": [
        " 0.601137024173\n",
        "scv-lin"
       ]
      },
      {
       "output_type": "stream",
       "stream": "stdout",
       "text": [
        " 0.628706302558\n",
        "scv-lin"
       ]
      },
      {
       "output_type": "stream",
       "stream": "stdout",
       "text": [
        " 0.657539960079\n",
        "scv-lin"
       ]
      },
      {
       "output_type": "stream",
       "stream": "stdout",
       "text": [
        " 0.687695983548\n",
        "scv-lin"
       ]
      },
      {
       "output_type": "stream",
       "stream": "stdout",
       "text": [
        " 0.719235019163\n",
        "scv-lin"
       ]
      },
      {
       "output_type": "stream",
       "stream": "stdout",
       "text": [
        " 0.752220494471\n",
        "scv-lin"
       ]
      },
      {
       "output_type": "stream",
       "stream": "stdout",
       "text": [
        " 0.786718745927\n",
        "scv-lin"
       ]
      },
      {
       "output_type": "stream",
       "stream": "stdout",
       "text": [
        " 0.822799152299\n",
        "scv-lin"
       ]
      },
      {
       "output_type": "stream",
       "stream": "stdout",
       "text": [
        " 0.860534274198\n",
        "scv-lin"
       ]
      },
      {
       "output_type": "stream",
       "stream": "stdout",
       "text": [
        " 0.9\n",
        "{('scv-lin', 0.33558852093966052): Counter({True: 730, 'fp': 156, 'fn': 114}), ('scv-lin', 0.29334864482349943): Counter({True: 776, 'fn': 119, 'fp': 105}), ('scv-lin', 0.41993181755421549): Counter({True: 772, 'fp': 156, 'fn': 72}), ('scv-lin', 0.71923501916284494): Counter({True: 847, 'fp': 96, 'fn': 57}), ('scv-lin', 0.43919068319631621): Counter({True: 801, 'fp': 161, 'fn': 38}), ('scv-lin', 0.52547307309743674): Counter({True: 832, 'fp': 123, 'fn': 45}), ('scv-lin', 0.14971628161451581): Counter({True: 741, 'fp': 254, 'fn': 5}), ('scv-lin', 0.48039866566730921): Counter({True: 815, 'fp': 152, 'fn': 33}), ('scv-lin', 0.10458618871850887): Counter({True: 773, 'fn': 116, 'fp': 111}), ('scv-lin', 0.21432050689605225): Counter({True: 775, 'fp': 220, 'fn': 5}), ('scv-lin', 0.13687381066422019): Counter({True: 756, 'fp': 146, 'fn': 98}), ('scv-lin', 0.90000000000000002): Counter({True: 862, 'fp': 79, 'fn': 59}), ('scv-lin', 0.65753996007891269): Counter({True: 844, 'fp': 116, 'fn': 40}), ('scv-lin', 0.30680216727829357): Counter({True: 763, 'fp': 237}), ('scv-lin', 0.7522204944712565): Counter({True: 820, 'fp': 129, 'fn': 51}), ('scv-lin', 0.20492237983056305): Counter({True: 766, 'fp': 225, 'fn': 9}), ('scv-lin', 0.23442957575669357): Counter({True: 751, 'fp': 243, 'fn': 6}), ('scv-lin', 0.35097924382760604): Counter({True: 773, 'fp': 143, 'fn': 84}), ('scv-lin', 0.25642541997214563): Counter({True: 783, 'fn': 117, 'fp': 100}), ('scv-lin', 0.14315110192749586): Counter({True: 768, 'fp': 228, 'fn': 4}), ('scv-lin', 0.19593636821598551): Counter({True: 760, 'fp': 122, 'fn': 118}), ('scv-lin', 0.32087269366215138): Counter({True: 769, 'fp': 231}), ('scv-lin', 0.86053427419783635): Counter({True: 848, 'fp': 97, 'fn': 55}), ('scv-lin', 0.40151746870177241): Counter({True: 735, 'fp': 145, 'fn': 120}), ('scv-lin', 0.10000000000000001): Counter({True: 769, 'fn': 116, 'fp': 115}), ('scv-lin', 0.36707581431233549): Counter({True: 757, 'fp': 176, 'fn': 67}), ('scv-lin', 0.24518095851289529): Counter({True: 780, 'fp': 120, 'fn': 100}), ('scv-lin', 0.68769598354773964): Counter({True: 839, 'fp': 83, 'fn': 78}), ('scv-lin', 0.38391060389670251): Counter({True: 711, 'fp': 159, 'fn': 130}), ('scv-lin', 0.5747766808779754): Counter({True: 810, 'fp': 135, 'fn': 55}), ('scv-lin', 0.54957225989463332): Counter({True: 824, 'fp': 125, 'fn': 51}), ('scv-lin', 0.13087178368514088): Counter({True: 768, 'fp': 122, 'fn': 110}), ('scv-lin', 0.11439920615333872): Counter({True: 771, 'fp': 226, 'fn': 3}), ('scv-lin', 0.15658255283169173): Counter({True: 743, 'fp': 252, 'fn': 5}), ('scv-lin', 0.10938270870663554): Counter({True: 772, 'fp': 221, 'fn': 7}), ('scv-lin', 0.22414964980477006): Counter({True: 761, 'fp': 141, 'fn': 98}), ('scv-lin', 0.62870630255842397): Counter({True: 827, 'fp': 119, 'fn': 54}), ('scv-lin', 0.60113702417302095): Counter({True: 823, 'fp': 93, 'fn': 84}), ('scv-lin', 0.82279915229910794): Counter({True: 849, 'fp': 87, 'fn': 64}), ('scv-lin', 0.28048507017789892): Counter({True: 784, 'fp': 118, 'fn': 98}), ('scv-lin', 0.11964576964000685): Counter({True: 785, 'fn': 113, 'fp': 102}), ('scv-lin', 0.50243065507601048): Counter({True: 805, 'fp': 130, 'fn': 65}), ('scv-lin', 0.78671874592700897): Counter({True: 838, 'fp': 110, 'fn': 52}), ('scv-lin', 0.17127423764930305): Counter({True: 778, 'fp': 120, 'fn': 102}), ('scv-lin', 0.26818557365429724): Counter({True: 796, 'fp': 105, 'fn': 99}), ('scv-lin', 0.16376372420481197): Counter({True: 762, 'fp': 231, 'fn': 7}), ('scv-lin', 0.18734440045744791): Counter({True: 734, 'fp': 156, 'fn': 110}), ('scv-lin', 0.12513295042940997): Counter({True: 787, 'fp': 113, 'fn': 100}), ('scv-lin', 0.1791291974140875): Counter({True: 780, 'fp': 213, 'fn': 7}), ('scv-lin', 0.45933279676180772): Counter({True: 827, 'fp': 119, 'fn': 54})}"
       ]
      },
      {
       "output_type": "stream",
       "stream": "stdout",
       "text": [
        "\n",
        "scv-sig 0.1\n",
        "scv-sig"
       ]
      },
      {
       "output_type": "stream",
       "stream": "stdout",
       "text": [
        " 0.104586188719\n",
        "scv-sig"
       ]
      },
      {
       "output_type": "stream",
       "stream": "stdout",
       "text": [
        " 0.109382708707\n",
        "scv-sig"
       ]
      },
      {
       "output_type": "stream",
       "stream": "stdout",
       "text": [
        " 0.114399206153\n",
        "scv-sig"
       ]
      },
      {
       "output_type": "stream",
       "stream": "stdout",
       "text": [
        " 0.11964576964\n",
        "scv-sig"
       ]
      },
      {
       "output_type": "stream",
       "stream": "stdout",
       "text": [
        " 0.125132950429\n",
        "scv-sig"
       ]
      },
      {
       "output_type": "stream",
       "stream": "stdout",
       "text": [
        " 0.130871783685\n",
        "scv-sig"
       ]
      },
      {
       "output_type": "stream",
       "stream": "stdout",
       "text": [
        " 0.136873810664\n",
        "scv-sig"
       ]
      },
      {
       "output_type": "stream",
       "stream": "stdout",
       "text": [
        " 0.143151101927\n",
        "scv-sig"
       ]
      },
      {
       "output_type": "stream",
       "stream": "stdout",
       "text": [
        " 0.149716281615\n",
        "scv-sig"
       ]
      },
      {
       "output_type": "stream",
       "stream": "stdout",
       "text": [
        " 0.156582552832\n",
        "scv-sig"
       ]
      },
      {
       "output_type": "stream",
       "stream": "stdout",
       "text": [
        " 0.163763724205\n",
        "scv-sig"
       ]
      },
      {
       "output_type": "stream",
       "stream": "stdout",
       "text": [
        " 0.171274237649\n",
        "scv-sig"
       ]
      },
      {
       "output_type": "stream",
       "stream": "stdout",
       "text": [
        " 0.179129197414\n",
        "scv-sig"
       ]
      },
      {
       "output_type": "stream",
       "stream": "stdout",
       "text": [
        " 0.187344400457\n",
        "scv-sig"
       ]
      },
      {
       "output_type": "stream",
       "stream": "stdout",
       "text": [
        " 0.195936368216\n",
        "scv-sig"
       ]
      },
      {
       "output_type": "stream",
       "stream": "stdout",
       "text": [
        " 0.204922379831\n",
        "scv-sig"
       ]
      },
      {
       "output_type": "stream",
       "stream": "stdout",
       "text": [
        " 0.214320506896\n",
        "scv-sig"
       ]
      },
      {
       "output_type": "stream",
       "stream": "stdout",
       "text": [
        " 0.224149649805\n",
        "scv-sig"
       ]
      },
      {
       "output_type": "stream",
       "stream": "stdout",
       "text": [
        " 0.234429575757\n",
        "scv-sig"
       ]
      },
      {
       "output_type": "stream",
       "stream": "stdout",
       "text": [
        " 0.245180958513\n",
        "scv-sig"
       ]
      },
      {
       "output_type": "stream",
       "stream": "stdout",
       "text": [
        " 0.256425419972\n",
        "scv-sig"
       ]
      },
      {
       "output_type": "stream",
       "stream": "stdout",
       "text": [
        " 0.268185573654\n",
        "scv-sig"
       ]
      },
      {
       "output_type": "stream",
       "stream": "stdout",
       "text": [
        " 0.280485070178\n",
        "scv-sig"
       ]
      },
      {
       "output_type": "stream",
       "stream": "stdout",
       "text": [
        " 0.293348644823\n",
        "scv-sig"
       ]
      },
      {
       "output_type": "stream",
       "stream": "stdout",
       "text": [
        " 0.306802167278\n",
        "scv-sig"
       ]
      },
      {
       "output_type": "stream",
       "stream": "stdout",
       "text": [
        " 0.320872693662\n",
        "scv-sig"
       ]
      },
      {
       "output_type": "stream",
       "stream": "stdout",
       "text": [
        " 0.33558852094\n",
        "scv-sig"
       ]
      },
      {
       "output_type": "stream",
       "stream": "stdout",
       "text": [
        " 0.350979243828\n",
        "scv-sig"
       ]
      },
      {
       "output_type": "stream",
       "stream": "stdout",
       "text": [
        " 0.367075814312\n",
        "scv-sig"
       ]
      },
      {
       "output_type": "stream",
       "stream": "stdout",
       "text": [
        " 0.383910603897\n",
        "scv-sig"
       ]
      },
      {
       "output_type": "stream",
       "stream": "stdout",
       "text": [
        " 0.401517468702\n",
        "scv-sig"
       ]
      },
      {
       "output_type": "stream",
       "stream": "stdout",
       "text": [
        " 0.419931817554\n",
        "scv-sig"
       ]
      },
      {
       "output_type": "stream",
       "stream": "stdout",
       "text": [
        " 0.439190683196\n",
        "scv-sig"
       ]
      },
      {
       "output_type": "stream",
       "stream": "stdout",
       "text": [
        " 0.459332796762\n",
        "scv-sig"
       ]
      },
      {
       "output_type": "stream",
       "stream": "stdout",
       "text": [
        " 0.480398665667\n",
        "scv-sig"
       ]
      },
      {
       "output_type": "stream",
       "stream": "stdout",
       "text": [
        " 0.502430655076\n",
        "scv-sig"
       ]
      },
      {
       "output_type": "stream",
       "stream": "stdout",
       "text": [
        " 0.525473073097\n",
        "scv-sig"
       ]
      },
      {
       "output_type": "stream",
       "stream": "stdout",
       "text": [
        " 0.549572259895\n",
        "scv-sig"
       ]
      },
      {
       "output_type": "stream",
       "stream": "stdout",
       "text": [
        " 0.574776680878\n",
        "scv-sig"
       ]
      },
      {
       "output_type": "stream",
       "stream": "stdout",
       "text": [
        " 0.601137024173\n",
        "scv-sig"
       ]
      },
      {
       "output_type": "stream",
       "stream": "stdout",
       "text": [
        " 0.628706302558\n",
        "scv-sig"
       ]
      },
      {
       "output_type": "stream",
       "stream": "stdout",
       "text": [
        " 0.657539960079\n",
        "scv-sig"
       ]
      },
      {
       "output_type": "stream",
       "stream": "stdout",
       "text": [
        " 0.687695983548\n",
        "scv-sig"
       ]
      },
      {
       "output_type": "stream",
       "stream": "stdout",
       "text": [
        " 0.719235019163\n",
        "scv-sig"
       ]
      },
      {
       "output_type": "stream",
       "stream": "stdout",
       "text": [
        " 0.752220494471\n",
        "scv-sig"
       ]
      },
      {
       "output_type": "stream",
       "stream": "stdout",
       "text": [
        " 0.786718745927\n",
        "scv-sig"
       ]
      },
      {
       "output_type": "stream",
       "stream": "stdout",
       "text": [
        " 0.822799152299\n",
        "scv-sig"
       ]
      },
      {
       "output_type": "stream",
       "stream": "stdout",
       "text": [
        " 0.860534274198\n",
        "scv-sig"
       ]
      },
      {
       "output_type": "stream",
       "stream": "stdout",
       "text": [
        " 0.9\n",
        "{('scv-sig', 0.15658255283169173): Counter({True: 752, 'fp': 248}), ('scv-lin', 0.43919068319631621): Counter({True: 801, 'fp': 161, 'fn': 38}), ('scv-lin', 0.5747766808779754): Counter({True: 810, 'fp': 135, 'fn': 55}), ('scv-lin', 0.14971628161451581): Counter({True: 741, 'fp': 254, 'fn': 5}), ('scv-sig', 0.26818557365429724): Counter({True: 756, 'fp': 244}), ('scv-lin', 0.10458618871850887): Counter({True: 773, 'fn': 116, 'fp': 111}), ('scv-sig', 0.38391060389670251): Counter({True: 756, 'fp': 244}), ('scv-lin', 0.21432050689605225): Counter({True: 775, 'fp': 220, 'fn': 5}), ('scv-lin', 0.30680216727829357): Counter({True: 763, 'fp': 237}), ('scv-lin', 0.20492237983056305): Counter({True: 766, 'fp': 225, 'fn': 9}), ('scv-lin', 0.17127423764930305): Counter({True: 778, 'fp': 120, 'fn': 102}), ('scv-sig', 0.32087269366215138): Counter({True: 737, 'fp': 263}), ('scv-lin', 0.40151746870177241): Counter({True: 735, 'fp': 145, 'fn': 120}), ('scv-sig', 0.65753996007891269): Counter({True: 751, 'fp': 249}), ('scv-sig', 0.54957225989463332): Counter({True: 733, 'fp': 267}), ('scv-sig', 0.40151746870177241): Counter({True: 753, 'fp': 247}), ('scv-lin', 0.22414964980477006): Counter({True: 761, 'fp': 141, 'fn': 98}), ('scv-sig', 0.10000000000000001): Counter({True: 767, 'fp': 233}), ('scv-sig', 0.29334864482349943): Counter({True: 748, 'fp': 252}), ('scv-lin', 0.28048507017789892): Counter({True: 784, 'fp': 118, 'fn': 98}), ('scv-lin', 0.48039866566730921): Counter({True: 815, 'fp': 152, 'fn': 33}), ('scv-sig', 0.78671874592700897): Counter({True: 740, 'fp': 260}), ('scv-sig', 0.13687381066422019): Counter({True: 747, 'fp': 253}), ('scv-sig', 0.41993181755421549): Counter({True: 726, 'fp': 274}), ('scv-sig', 0.17127423764930305): Counter({True: 750, 'fp': 250}), ('scv-lin', 0.32087269366215138): Counter({True: 769, 'fp': 231}), ('scv-sig', 0.10938270870663554): Counter({True: 716, 'fp': 284}), ('scv-lin', 0.16376372420481197): Counter({True: 762, 'fp': 231, 'fn': 7}), ('scv-sig', 0.28048507017789892): Counter({True: 739, 'fp': 261}), ('scv-lin', 0.29334864482349943): Counter({True: 776, 'fn': 119, 'fp': 105}), ('scv-sig', 0.60113702417302095): Counter({True: 758, 'fp': 242}), ('scv-sig', 0.90000000000000002): Counter({True: 756, 'fp': 244}), ('scv-lin', 0.41993181755421549): Counter({True: 772, 'fp': 156, 'fn': 72}), ('scv-sig', 0.14971628161451581): Counter({True: 742, 'fp': 258}), ('scv-sig', 0.13087178368514088): Counter({True: 735, 'fp': 265}), ('scv-sig', 0.43919068319631621): Counter({True: 743, 'fp': 257}), ('scv-sig', 0.33558852093966052): Counter({True: 732, 'fp': 268}), ('scv-sig', 0.45933279676180772): Counter({True: 748, 'fp': 252}), ('scv-lin', 0.65753996007891269): Counter({True: 844, 'fp': 116, 'fn': 40}), ('scv-sig', 0.1791291974140875): Counter({True: 747, 'fp': 253}), ('scv-lin', 0.14315110192749586): Counter({True: 768, 'fp': 228, 'fn': 4}), ('scv-sig', 0.20492237983056305): Counter({True: 738, 'fp': 262}), ('scv-lin', 0.10000000000000001): Counter({True: 769, 'fn': 116, 'fp': 115}), ('scv-lin', 0.36707581431233549): Counter({True: 757, 'fp': 176, 'fn': 67}), ('scv-lin', 0.24518095851289529): Counter({True: 780, 'fp': 120, 'fn': 100}), ('scv-lin', 0.13087178368514088): Counter({True: 768, 'fp': 122, 'fn': 110}), ('scv-lin', 0.11439920615333872): Counter({True: 771, 'fp': 226, 'fn': 3}), ('scv-lin', 0.15658255283169173): Counter({True: 743, 'fp': 252, 'fn': 5}), ('scv-lin', 0.60113702417302095): Counter({True: 823, 'fp': 93, 'fn': 84}), ('scv-sig', 0.18734440045744791): Counter({True: 747, 'fp': 253}), ('scv-sig', 0.12513295042940997): Counter({True: 737, 'fp': 263}), ('scv-sig', 0.23442957575669357): Counter({True: 776, 'fp': 224}), ('scv-lin', 0.78671874592700897): Counter({True: 838, 'fp': 110, 'fn': 52}), ('scv-sig', 0.22414964980477006): Counter({True: 748, 'fp': 252}), ('scv-lin', 0.18734440045744791): Counter({True: 734, 'fp': 156, 'fn': 110}), ('scv-sig', 0.50243065507601048): Counter({True: 773, 'fp': 227}), ('scv-sig', 0.52547307309743674): Counter({True: 745, 'fp': 255}), ('scv-lin', 0.10938270870663554): Counter({True: 772, 'fp': 221, 'fn': 7}), ('scv-sig', 0.10458618871850887): Counter({True: 746, 'fp': 254}), ('scv-lin', 0.13687381066422019): Counter({True: 756, 'fp': 146, 'fn': 98}), ('scv-sig', 0.14315110192749586): Counter({True: 756, 'fp': 244}), ('scv-lin', 0.35097924382760604): Counter({True: 773, 'fp': 143, 'fn': 84}), ('scv-lin', 0.19593636821598551): Counter({True: 760, 'fp': 122, 'fn': 118}), ('scv-sig', 0.30680216727829357): Counter({True: 755, 'fp': 245}), ('scv-lin', 0.68769598354773964): Counter({True: 839, 'fp': 83, 'fn': 78}), ('scv-lin', 0.38391060389670251): Counter({True: 711, 'fp': 159, 'fn': 130}), ('scv-sig', 0.21432050689605225): Counter({True: 750, 'fp': 250}), ('scv-lin', 0.82279915229910794): Counter({True: 849, 'fp': 87, 'fn': 64}), ('scv-sig', 0.5747766808779754): Counter({True: 753, 'fp': 247}), ('scv-sig', 0.36707581431233549): Counter({True: 750, 'fp': 250}), ('scv-sig', 0.11964576964000685): Counter({True: 720, 'fp': 280}), ('scv-lin', 0.26818557365429724): Counter({True: 796, 'fp': 105, 'fn': 99}), ('scv-sig', 0.62870630255842397): Counter({True: 733, 'fp': 267}), ('scv-lin', 0.45933279676180772): Counter({True: 827, 'fp': 119, 'fn': 54}), ('scv-lin', 0.33558852093966052): Counter({True: 730, 'fp': 156, 'fn': 114}), ('scv-lin', 0.71923501916284494): Counter({True: 847, 'fp': 96, 'fn': 57}), ('scv-lin', 0.50243065507601048): Counter({True: 805, 'fp': 130, 'fn': 65}), ('scv-lin', 0.90000000000000002): Counter({True: 862, 'fp': 79, 'fn': 59}), ('scv-sig', 0.68769598354773964): Counter({True: 735, 'fp': 265}), ('scv-sig', 0.86053427419783635): Counter({True: 732, 'fp': 268}), ('scv-lin', 0.54957225989463332): Counter({True: 824, 'fp': 125, 'fn': 51}), ('scv-lin', 0.7522204944712565): Counter({True: 820, 'fp': 129, 'fn': 51}), ('scv-sig', 0.16376372420481197): Counter({True: 719, 'fp': 281}), ('scv-lin', 0.23442957575669357): Counter({True: 751, 'fp': 243, 'fn': 6}), ('scv-sig', 0.19593636821598551): Counter({True: 746, 'fp': 254}), ('scv-lin', 0.25642541997214563): Counter({True: 783, 'fn': 117, 'fp': 100}), ('scv-sig', 0.25642541997214563): Counter({True: 741, 'fp': 259}), ('scv-sig', 0.48039866566730921): Counter({True: 743, 'fp': 257}), ('scv-sig', 0.35097924382760604): Counter({True: 726, 'fp': 274}), ('scv-lin', 0.86053427419783635): Counter({True: 848, 'fp': 97, 'fn': 55}), ('scv-sig', 0.7522204944712565): Counter({True: 760, 'fp': 240}), ('scv-sig', 0.11439920615333872): Counter({True: 742, 'fp': 258}), ('scv-sig', 0.71923501916284494): Counter({True: 738, 'fp': 262}), ('scv-lin', 0.52547307309743674): Counter({True: 832, 'fp': 123, 'fn': 45}), ('scv-sig', 0.24518095851289529): Counter({True: 742, 'fp': 258}), ('scv-lin', 0.62870630255842397): Counter({True: 827, 'fp': 119, 'fn': 54}), ('scv-sig', 0.82279915229910794): Counter({True: 754, 'fp': 246}), ('scv-lin', 0.11964576964000685): Counter({True: 785, 'fn': 113, 'fp': 102}), ('scv-lin', 0.12513295042940997): Counter({True: 787, 'fp': 113, 'fn': 100}), ('scv-lin', 0.1791291974140875): Counter({True: 780, 'fp': 213, 'fn': 7})}"
       ]
      },
      {
       "output_type": "stream",
       "stream": "stdout",
       "text": [
        "\n",
        "lrl2 0.1\n",
        "lrl2"
       ]
      },
      {
       "output_type": "stream",
       "stream": "stdout",
       "text": [
        " 0.104586188719\n",
        "lrl2"
       ]
      },
      {
       "output_type": "stream",
       "stream": "stdout",
       "text": [
        " 0.109382708707\n",
        "lrl2"
       ]
      },
      {
       "output_type": "stream",
       "stream": "stdout",
       "text": [
        " 0.114399206153\n",
        "lrl2"
       ]
      },
      {
       "output_type": "stream",
       "stream": "stdout",
       "text": [
        " 0.11964576964\n",
        "lrl2"
       ]
      },
      {
       "output_type": "stream",
       "stream": "stdout",
       "text": [
        " 0.125132950429\n",
        "lrl2"
       ]
      },
      {
       "output_type": "stream",
       "stream": "stdout",
       "text": [
        " 0.130871783685\n",
        "lrl2"
       ]
      },
      {
       "output_type": "stream",
       "stream": "stdout",
       "text": [
        " 0.136873810664\n",
        "lrl2"
       ]
      },
      {
       "output_type": "stream",
       "stream": "stdout",
       "text": [
        " 0.143151101927\n",
        "lrl2"
       ]
      },
      {
       "output_type": "stream",
       "stream": "stdout",
       "text": [
        " 0.149716281615\n",
        "lrl2"
       ]
      },
      {
       "output_type": "stream",
       "stream": "stdout",
       "text": [
        " 0.156582552832\n",
        "lrl2"
       ]
      },
      {
       "output_type": "stream",
       "stream": "stdout",
       "text": [
        " 0.163763724205\n",
        "lrl2"
       ]
      },
      {
       "output_type": "stream",
       "stream": "stdout",
       "text": [
        " 0.171274237649\n",
        "lrl2"
       ]
      },
      {
       "output_type": "stream",
       "stream": "stdout",
       "text": [
        " 0.179129197414\n",
        "lrl2"
       ]
      },
      {
       "output_type": "stream",
       "stream": "stdout",
       "text": [
        " 0.187344400457\n",
        "lrl2"
       ]
      },
      {
       "output_type": "stream",
       "stream": "stdout",
       "text": [
        " 0.195936368216\n",
        "lrl2"
       ]
      },
      {
       "output_type": "stream",
       "stream": "stdout",
       "text": [
        " 0.204922379831\n",
        "lrl2"
       ]
      },
      {
       "output_type": "stream",
       "stream": "stdout",
       "text": [
        " 0.214320506896\n",
        "lrl2"
       ]
      },
      {
       "output_type": "stream",
       "stream": "stdout",
       "text": [
        " 0.224149649805\n",
        "lrl2"
       ]
      },
      {
       "output_type": "stream",
       "stream": "stdout",
       "text": [
        " 0.234429575757\n",
        "lrl2"
       ]
      },
      {
       "output_type": "stream",
       "stream": "stdout",
       "text": [
        " 0.245180958513\n",
        "lrl2"
       ]
      },
      {
       "output_type": "stream",
       "stream": "stdout",
       "text": [
        " 0.256425419972\n",
        "lrl2"
       ]
      },
      {
       "output_type": "stream",
       "stream": "stdout",
       "text": [
        " 0.268185573654\n",
        "lrl2"
       ]
      },
      {
       "output_type": "stream",
       "stream": "stdout",
       "text": [
        " 0.280485070178\n",
        "lrl2"
       ]
      },
      {
       "output_type": "stream",
       "stream": "stdout",
       "text": [
        " 0.293348644823\n",
        "lrl2"
       ]
      },
      {
       "output_type": "stream",
       "stream": "stdout",
       "text": [
        " 0.306802167278\n",
        "lrl2"
       ]
      },
      {
       "output_type": "stream",
       "stream": "stdout",
       "text": [
        " 0.320872693662\n",
        "lrl2"
       ]
      },
      {
       "output_type": "stream",
       "stream": "stdout",
       "text": [
        " 0.33558852094\n",
        "lrl2"
       ]
      },
      {
       "output_type": "stream",
       "stream": "stdout",
       "text": [
        " 0.350979243828\n",
        "lrl2"
       ]
      },
      {
       "output_type": "stream",
       "stream": "stdout",
       "text": [
        " 0.367075814312\n",
        "lrl2"
       ]
      },
      {
       "output_type": "stream",
       "stream": "stdout",
       "text": [
        " 0.383910603897\n",
        "lrl2"
       ]
      },
      {
       "output_type": "stream",
       "stream": "stdout",
       "text": [
        " 0.401517468702\n",
        "lrl2"
       ]
      },
      {
       "output_type": "stream",
       "stream": "stdout",
       "text": [
        " 0.419931817554\n",
        "lrl2"
       ]
      },
      {
       "output_type": "stream",
       "stream": "stdout",
       "text": [
        " 0.439190683196\n",
        "lrl2"
       ]
      },
      {
       "output_type": "stream",
       "stream": "stdout",
       "text": [
        " 0.459332796762\n",
        "lrl2"
       ]
      },
      {
       "output_type": "stream",
       "stream": "stdout",
       "text": [
        " 0.480398665667\n",
        "lrl2"
       ]
      },
      {
       "output_type": "stream",
       "stream": "stdout",
       "text": [
        " 0.502430655076\n",
        "lrl2"
       ]
      },
      {
       "output_type": "stream",
       "stream": "stdout",
       "text": [
        " 0.525473073097\n",
        "lrl2"
       ]
      },
      {
       "output_type": "stream",
       "stream": "stdout",
       "text": [
        " 0.549572259895\n",
        "lrl2"
       ]
      },
      {
       "output_type": "stream",
       "stream": "stdout",
       "text": [
        " 0.574776680878\n",
        "lrl2"
       ]
      },
      {
       "output_type": "stream",
       "stream": "stdout",
       "text": [
        " 0.601137024173\n",
        "lrl2"
       ]
      },
      {
       "output_type": "stream",
       "stream": "stdout",
       "text": [
        " 0.628706302558\n",
        "lrl2"
       ]
      },
      {
       "output_type": "stream",
       "stream": "stdout",
       "text": [
        " 0.657539960079\n",
        "lrl2"
       ]
      },
      {
       "output_type": "stream",
       "stream": "stdout",
       "text": [
        " 0.687695983548\n",
        "lrl2"
       ]
      },
      {
       "output_type": "stream",
       "stream": "stdout",
       "text": [
        " 0.719235019163\n",
        "lrl2"
       ]
      },
      {
       "output_type": "stream",
       "stream": "stdout",
       "text": [
        " 0.752220494471\n",
        "lrl2"
       ]
      },
      {
       "output_type": "stream",
       "stream": "stdout",
       "text": [
        " 0.786718745927\n",
        "lrl2"
       ]
      },
      {
       "output_type": "stream",
       "stream": "stdout",
       "text": [
        " 0.822799152299\n",
        "lrl2"
       ]
      },
      {
       "output_type": "stream",
       "stream": "stdout",
       "text": [
        " 0.860534274198\n",
        "lrl2"
       ]
      },
      {
       "output_type": "stream",
       "stream": "stdout",
       "text": [
        " 0.9\n",
        "{('lrl2', 0.52547307309743674): Counter({True: 808, 'fp': 123, 'fn': 69}), ('scv-sig', 0.15658255283169173): Counter({True: 752, 'fp': 248}), ('lrl2', 0.13087178368514088): Counter({True: 752, 'fp': 195, 'fn': 53}), ('scv-lin', 0.43919068319631621): Counter({True: 801, 'fp': 161, 'fn': 38}), ('scv-lin', 0.5747766808779754): Counter({True: 810, 'fp': 135, 'fn': 55}), ('scv-lin', 0.14971628161451581): Counter({True: 741, 'fp': 254, 'fn': 5}), ('scv-sig', 0.26818557365429724): Counter({True: 756, 'fp': 244}), ('scv-lin', 0.10458618871850887): Counter({True: 773, 'fn': 116, 'fp': 111}), ('scv-sig', 0.38391060389670251): Counter({True: 756, 'fp': 244}), ('lrl2', 0.18734440045744791): Counter({True: 735, 'fp': 177, 'fn': 88}), ('scv-lin', 0.21432050689605225): Counter({True: 775, 'fp': 220, 'fn': 5}), ('lrl2', 0.22414964980477006): Counter({True: 732, 'fp': 176, 'fn': 92}), ('lrl2', 0.36707581431233549): Counter({True: 712, 'fp': 203, 'fn': 85}), ('lrl2', 0.10000000000000001): Counter({True: 706, 'fp': 181, 'fn': 113}), ('scv-lin', 0.30680216727829357): Counter({True: 763, 'fp': 237}), ('lrl2', 0.35097924382760604): Counter({True: 731, 'fp': 180, 'fn': 89}), ('scv-lin', 0.20492237983056305): Counter({True: 766, 'fp': 225, 'fn': 9}), ('scv-lin', 0.17127423764930305): Counter({True: 778, 'fp': 120, 'fn': 102}), ('scv-sig', 0.32087269366215138): Counter({True: 737, 'fp': 263}), ('lrl2', 0.25642541997214563): Counter({True: 741, 'fp': 159, 'fn': 100}), ('lrl2', 0.7522204944712565): Counter({True: 827, 'fp': 102, 'fn': 71}), ('scv-lin', 0.40151746870177241): Counter({True: 735, 'fp': 145, 'fn': 120}), ('scv-sig', 0.65753996007891269): Counter({True: 751, 'fp': 249}), ('lrl2', 0.50243065507601048): Counter({True: 819, 'fp': 121, 'fn': 60}), ('scv-sig', 0.54957225989463332): Counter({True: 733, 'fp': 267}), ('lrl2', 0.71923501916284494): Counter({True: 844, 'fp': 108, 'fn': 48}), ('scv-sig', 0.40151746870177241): Counter({True: 753, 'fp': 247}), ('scv-lin', 0.22414964980477006): Counter({True: 761, 'fp': 141, 'fn': 98}), ('scv-sig', 0.10000000000000001): Counter({True: 767, 'fp': 233}), ('lrl2', 0.45933279676180772): Counter({True: 769, 'fp': 133, 'fn': 98}), ('scv-sig', 0.29334864482349943): Counter({True: 748, 'fp': 252}), ('scv-lin', 0.28048507017789892): Counter({True: 784, 'fp': 118, 'fn': 98}), ('scv-lin', 0.48039866566730921): Counter({True: 815, 'fp': 152, 'fn': 33}), ('scv-sig', 0.78671874592700897): Counter({True: 740, 'fp': 260}), ('lrl2', 0.32087269366215138): Counter({True: 769, 'fp': 149, 'fn': 82}), ('scv-sig', 0.13687381066422019): Counter({True: 747, 'fp': 253}), ('scv-sig', 0.41993181755421549): Counter({True: 726, 'fp': 274}), ('scv-sig', 0.17127423764930305): Counter({True: 750, 'fp': 250}), ('scv-lin', 0.32087269366215138): Counter({True: 769, 'fp': 231}), ('scv-sig', 0.10938270870663554): Counter({True: 716, 'fp': 284}), ('scv-lin', 0.16376372420481197): Counter({True: 762, 'fp': 231, 'fn': 7}), ('scv-sig', 0.28048507017789892): Counter({True: 739, 'fp': 261}), ('scv-lin', 0.29334864482349943): Counter({True: 776, 'fn': 119, 'fp': 105}), ('scv-sig', 0.60113702417302095): Counter({True: 758, 'fp': 242}), ('scv-sig', 0.90000000000000002): Counter({True: 756, 'fp': 244}), ('scv-lin', 0.41993181755421549): Counter({True: 772, 'fp': 156, 'fn': 72}), ('scv-sig', 0.14971628161451581): Counter({True: 742, 'fp': 258}), ('scv-sig', 0.13087178368514088): Counter({True: 735, 'fp': 265}), ('scv-sig', 0.43919068319631621): Counter({True: 743, 'fp': 257}), ('scv-sig', 0.33558852093966052): Counter({True: 732, 'fp': 268}), ('scv-sig', 0.45933279676180772): Counter({True: 748, 'fp': 252}), ('lrl2', 0.26818557365429724): Counter({True: 729, 'fp': 187, 'fn': 84}), ('scv-lin', 0.65753996007891269): Counter({True: 844, 'fp': 116, 'fn': 40}), ('scv-sig', 0.1791291974140875): Counter({True: 747, 'fp': 253}), ('lrl2', 0.19593636821598551): Counter({True: 770, 'fp': 158, 'fn': 72}), ('scv-lin', 0.14315110192749586): Counter({True: 768, 'fp': 228, 'fn': 4}), ('lrl2', 0.20492237983056305): Counter({True: 705, 'fp': 197, 'fn': 98}), ('scv-sig', 0.20492237983056305): Counter({True: 738, 'fp': 262}), ('lrl2', 0.30680216727829357): Counter({True: 723, 'fp': 201, 'fn': 76}), ('scv-lin', 0.10000000000000001): Counter({True: 769, 'fn': 116, 'fp': 115}), ('scv-lin', 0.36707581431233549): Counter({True: 757, 'fp': 176, 'fn': 67}), ('scv-lin', 0.24518095851289529): Counter({True: 780, 'fp': 120, 'fn': 100}), ('lrl2', 0.13687381066422019): Counter({True: 761, 'fp': 170, 'fn': 69}), ('lrl2', 0.10458618871850887): Counter({True: 763, 'fp': 161, 'fn': 76}), ('lrl2', 0.5747766808779754): Counter({True: 804, 'fp': 128, 'fn': 68}), ('scv-lin', 0.13087178368514088): Counter({True: 768, 'fp': 122, 'fn': 110}), ('scv-lin', 0.11439920615333872): Counter({True: 771, 'fp': 226, 'fn': 3}), ('scv-lin', 0.15658255283169173): Counter({True: 743, 'fp': 252, 'fn': 5}), ('lrl2', 0.1791291974140875): Counter({True: 762, 'fp': 180, 'fn': 58}), ('scv-lin', 0.60113702417302095): Counter({True: 823, 'fp': 93, 'fn': 84}), ('scv-sig', 0.18734440045744791): Counter({True: 747, 'fp': 253}), ('scv-sig', 0.12513295042940997): Counter({True: 737, 'fp': 263}), ('scv-sig', 0.23442957575669357): Counter({True: 776, 'fp': 224}), ('scv-lin', 0.78671874592700897): Counter({True: 838, 'fp': 110, 'fn': 52}), ('scv-sig', 0.22414964980477006): Counter({True: 748, 'fp': 252}), ('lrl2', 0.14315110192749586): Counter({True: 750, 'fp': 155, 'fn': 95}), ('scv-lin', 0.18734440045744791): Counter({True: 734, 'fp': 156, 'fn': 110}), ('lrl2', 0.60113702417302095): Counter({True: 848, 'fp': 101, 'fn': 51}), ('lrl2', 0.10938270870663554): Counter({True: 752, 'fp': 163, 'fn': 85}), ('lrl2', 0.15658255283169173): Counter({True: 760, 'fp': 179, 'fn': 61}), ('lrl2', 0.11439920615333872): Counter({True: 761, 'fp': 162, 'fn': 77}), ('scv-sig', 0.50243065507601048): Counter({True: 773, 'fp': 227}), ('scv-sig', 0.52547307309743674): Counter({True: 745, 'fp': 255}), ('scv-lin', 0.10938270870663554): Counter({True: 772, 'fp': 221, 'fn': 7}), ('scv-sig', 0.10458618871850887): Counter({True: 746, 'fp': 254}), ('scv-lin', 0.13687381066422019): Counter({True: 756, 'fp': 146, 'fn': 98}), ('lrl2', 0.24518095851289529): Counter({True: 745, 'fp': 144, 'fn': 111}), ('lrl2', 0.86053427419783635): Counter({True: 851, 'fp': 92, 'fn': 57}), ('scv-sig', 0.14315110192749586): Counter({True: 756, 'fp': 244}), ('scv-lin', 0.35097924382760604): Counter({True: 773, 'fp': 143, 'fn': 84}), ('lrl2', 0.23442957575669357): Counter({True: 774, 'fp': 162, 'fn': 64}), ('scv-lin', 0.19593636821598551): Counter({True: 760, 'fp': 122, 'fn': 118}), ('lrl2', 0.12513295042940997): Counter({True: 780, 'fp': 156, 'fn': 64}), ('scv-sig', 0.30680216727829357): Counter({True: 755, 'fp': 245}), ('lrl2', 0.90000000000000002): Counter({True: 825, 'fp': 126, 'fn': 49}), ('scv-lin', 0.68769598354773964): Counter({True: 839, 'fp': 83, 'fn': 78}), ('scv-lin', 0.38391060389670251): Counter({True: 711, 'fp': 159, 'fn': 130}), ('lrl2', 0.40151746870177241): Counter({True: 767, 'fp': 148, 'fn': 85}), ('scv-sig', 0.21432050689605225): Counter({True: 750, 'fp': 250}), ('scv-lin', 0.82279915229910794): Counter({True: 849, 'fp': 87, 'fn': 64}), ('scv-sig', 0.5747766808779754): Counter({True: 753, 'fp': 247}), ('lrl2', 0.41993181755421549): Counter({True: 746, 'fp': 162, 'fn': 92}), ('lrl2', 0.33558852093966052): Counter({True: 741, 'fp': 168, 'fn': 91}), ('lrl2', 0.29334864482349943): Counter({True: 737, 'fp': 156, 'fn': 107}), ('scv-sig', 0.36707581431233549): Counter({True: 750, 'fp': 250}), ('lrl2', 0.16376372420481197): Counter({True: 745, 'fp': 147, 'fn': 108}), ('scv-sig', 0.11964576964000685): Counter({True: 720, 'fp': 280}), ('scv-lin', 0.26818557365429724): Counter({True: 796, 'fp': 105, 'fn': 99}), ('lrl2', 0.28048507017789892): Counter({True: 741, 'fp': 174, 'fn': 85}), ('scv-sig', 0.62870630255842397): Counter({True: 733, 'fp': 267}), ('scv-lin', 0.45933279676180772): Counter({True: 827, 'fp': 119, 'fn': 54}), ('scv-lin', 0.33558852093966052): Counter({True: 730, 'fp': 156, 'fn': 114}), ('scv-lin', 0.71923501916284494): Counter({True: 847, 'fp': 96, 'fn': 57}), ('scv-lin', 0.50243065507601048): Counter({True: 805, 'fp': 130, 'fn': 65}), ('lrl2', 0.54957225989463332): Counter({True: 805, 'fp': 121, 'fn': 74}), ('lrl2', 0.38391060389670251): Counter({True: 722, 'fp': 161, 'fn': 117}), ('lrl2', 0.68769598354773964): Counter({True: 833, 'fp': 115, 'fn': 52}), ('scv-lin', 0.90000000000000002): Counter({True: 862, 'fp': 79, 'fn': 59}), ('scv-sig', 0.68769598354773964): Counter({True: 735, 'fp': 265}), ('scv-sig', 0.86053427419783635): Counter({True: 732, 'fp': 268}), ('scv-lin', 0.54957225989463332): Counter({True: 824, 'fp': 125, 'fn': 51}), ('scv-lin', 0.7522204944712565): Counter({True: 820, 'fp': 129, 'fn': 51}), ('scv-sig', 0.16376372420481197): Counter({True: 719, 'fp': 281}), ('scv-lin', 0.23442957575669357): Counter({True: 751, 'fp': 243, 'fn': 6}), ('scv-sig', 0.19593636821598551): Counter({True: 746, 'fp': 254}), ('scv-lin', 0.25642541997214563): Counter({True: 783, 'fn': 117, 'fp': 100}), ('scv-sig', 0.25642541997214563): Counter({True: 741, 'fp': 259}), ('scv-sig', 0.48039866566730921): Counter({True: 743, 'fp': 257}), ('lrl2', 0.65753996007891269): Counter({True: 830, 'fp': 114, 'fn': 56}), ('lrl2', 0.17127423764930305): Counter({True: 711, 'fp': 198, 'fn': 91}), ('scv-sig', 0.35097924382760604): Counter({True: 726, 'fp': 274}), ('scv-lin', 0.86053427419783635): Counter({True: 848, 'fp': 97, 'fn': 55}), ('scv-sig', 0.7522204944712565): Counter({True: 760, 'fp': 240}), ('scv-sig', 0.11439920615333872): Counter({True: 742, 'fp': 258}), ('lrl2', 0.21432050689605225): Counter({True: 734, 'fp': 201, 'fn': 65}), ('lrl2', 0.14971628161451581): Counter({True: 731, 'fp': 211, 'fn': 58}), ('scv-sig', 0.71923501916284494): Counter({True: 738, 'fp': 262}), ('lrl2', 0.48039866566730921): Counter({True: 822, 'fp': 133, 'fn': 45}), ('lrl2', 0.43919068319631621): Counter({True: 757, 'fp': 180, 'fn': 63}), ('lrl2', 0.82279915229910794): Counter({True: 810, 'fp': 138, 'fn': 52}), ('scv-lin', 0.52547307309743674): Counter({True: 832, 'fp': 123, 'fn': 45}), ('scv-sig', 0.24518095851289529): Counter({True: 742, 'fp': 258}), ('scv-lin', 0.62870630255842397): Counter({True: 827, 'fp': 119, 'fn': 54}), ('scv-sig', 0.82279915229910794): Counter({True: 754, 'fp': 246}), ('scv-lin', 0.11964576964000685): Counter({True: 785, 'fn': 113, 'fp': 102}), ('lrl2', 0.78671874592700897): Counter({True: 850, 'fp': 102, 'fn': 48}), ('lrl2', 0.11964576964000685): Counter({True: 710, 'fp': 199, 'fn': 91}), ('scv-lin', 0.12513295042940997): Counter({True: 787, 'fp': 113, 'fn': 100}), ('scv-lin', 0.1791291974140875): Counter({True: 780, 'fp': 213, 'fn': 7}), ('lrl2', 0.62870630255842397): Counter({True: 840, 'fp': 111, 'fn': 49})}"
       ]
      },
      {
       "output_type": "stream",
       "stream": "stdout",
       "text": [
        "\n",
        "scv-rbf 0.1\n",
        "scv-rbf"
       ]
      },
      {
       "output_type": "stream",
       "stream": "stdout",
       "text": [
        " 0.104586188719\n",
        "scv-rbf"
       ]
      },
      {
       "output_type": "stream",
       "stream": "stdout",
       "text": [
        " 0.109382708707\n",
        "scv-rbf"
       ]
      },
      {
       "output_type": "stream",
       "stream": "stdout",
       "text": [
        " 0.114399206153\n",
        "scv-rbf"
       ]
      },
      {
       "output_type": "stream",
       "stream": "stdout",
       "text": [
        " 0.11964576964\n",
        "scv-rbf"
       ]
      },
      {
       "output_type": "stream",
       "stream": "stdout",
       "text": [
        " 0.125132950429\n",
        "scv-rbf"
       ]
      },
      {
       "output_type": "stream",
       "stream": "stdout",
       "text": [
        " 0.130871783685\n",
        "scv-rbf"
       ]
      },
      {
       "output_type": "stream",
       "stream": "stdout",
       "text": [
        " 0.136873810664\n",
        "scv-rbf"
       ]
      },
      {
       "output_type": "stream",
       "stream": "stdout",
       "text": [
        " 0.143151101927\n",
        "scv-rbf"
       ]
      },
      {
       "output_type": "stream",
       "stream": "stdout",
       "text": [
        " 0.149716281615\n",
        "scv-rbf"
       ]
      },
      {
       "output_type": "stream",
       "stream": "stdout",
       "text": [
        " 0.156582552832\n",
        "scv-rbf"
       ]
      },
      {
       "output_type": "stream",
       "stream": "stdout",
       "text": [
        " 0.163763724205\n",
        "scv-rbf"
       ]
      },
      {
       "output_type": "stream",
       "stream": "stdout",
       "text": [
        " 0.171274237649\n",
        "scv-rbf"
       ]
      },
      {
       "output_type": "stream",
       "stream": "stdout",
       "text": [
        " 0.179129197414\n",
        "scv-rbf"
       ]
      },
      {
       "output_type": "stream",
       "stream": "stdout",
       "text": [
        " 0.187344400457\n",
        "scv-rbf"
       ]
      },
      {
       "output_type": "stream",
       "stream": "stdout",
       "text": [
        " 0.195936368216\n",
        "scv-rbf"
       ]
      },
      {
       "output_type": "stream",
       "stream": "stdout",
       "text": [
        " 0.204922379831\n",
        "scv-rbf"
       ]
      },
      {
       "output_type": "stream",
       "stream": "stdout",
       "text": [
        " 0.214320506896\n",
        "scv-rbf"
       ]
      },
      {
       "output_type": "stream",
       "stream": "stdout",
       "text": [
        " 0.224149649805\n",
        "scv-rbf"
       ]
      },
      {
       "output_type": "stream",
       "stream": "stdout",
       "text": [
        " 0.234429575757\n",
        "scv-rbf"
       ]
      },
      {
       "output_type": "stream",
       "stream": "stdout",
       "text": [
        " 0.245180958513\n",
        "scv-rbf"
       ]
      },
      {
       "output_type": "stream",
       "stream": "stdout",
       "text": [
        " 0.256425419972\n",
        "scv-rbf"
       ]
      },
      {
       "output_type": "stream",
       "stream": "stdout",
       "text": [
        " 0.268185573654\n",
        "scv-rbf"
       ]
      },
      {
       "output_type": "stream",
       "stream": "stdout",
       "text": [
        " 0.280485070178\n",
        "scv-rbf"
       ]
      },
      {
       "output_type": "stream",
       "stream": "stdout",
       "text": [
        " 0.293348644823\n",
        "scv-rbf"
       ]
      },
      {
       "output_type": "stream",
       "stream": "stdout",
       "text": [
        " 0.306802167278\n",
        "scv-rbf"
       ]
      },
      {
       "output_type": "stream",
       "stream": "stdout",
       "text": [
        " 0.320872693662\n",
        "scv-rbf"
       ]
      },
      {
       "output_type": "stream",
       "stream": "stdout",
       "text": [
        " 0.33558852094\n",
        "scv-rbf"
       ]
      },
      {
       "output_type": "stream",
       "stream": "stdout",
       "text": [
        " 0.350979243828\n",
        "scv-rbf"
       ]
      },
      {
       "output_type": "stream",
       "stream": "stdout",
       "text": [
        " 0.367075814312\n",
        "scv-rbf"
       ]
      },
      {
       "output_type": "stream",
       "stream": "stdout",
       "text": [
        " 0.383910603897\n",
        "scv-rbf"
       ]
      },
      {
       "output_type": "stream",
       "stream": "stdout",
       "text": [
        " 0.401517468702\n",
        "scv-rbf"
       ]
      },
      {
       "output_type": "stream",
       "stream": "stdout",
       "text": [
        " 0.419931817554\n",
        "scv-rbf"
       ]
      },
      {
       "output_type": "stream",
       "stream": "stdout",
       "text": [
        " 0.439190683196\n",
        "scv-rbf"
       ]
      },
      {
       "output_type": "stream",
       "stream": "stdout",
       "text": [
        " 0.459332796762\n",
        "scv-rbf"
       ]
      },
      {
       "output_type": "stream",
       "stream": "stdout",
       "text": [
        " 0.480398665667\n",
        "scv-rbf"
       ]
      },
      {
       "output_type": "stream",
       "stream": "stdout",
       "text": [
        " 0.502430655076\n",
        "scv-rbf"
       ]
      },
      {
       "output_type": "stream",
       "stream": "stdout",
       "text": [
        " 0.525473073097\n",
        "scv-rbf"
       ]
      },
      {
       "output_type": "stream",
       "stream": "stdout",
       "text": [
        " 0.549572259895\n",
        "scv-rbf"
       ]
      },
      {
       "output_type": "stream",
       "stream": "stdout",
       "text": [
        " 0.574776680878\n",
        "scv-rbf"
       ]
      },
      {
       "output_type": "stream",
       "stream": "stdout",
       "text": [
        " 0.601137024173\n",
        "scv-rbf"
       ]
      },
      {
       "output_type": "stream",
       "stream": "stdout",
       "text": [
        " 0.628706302558\n",
        "scv-rbf"
       ]
      },
      {
       "output_type": "stream",
       "stream": "stdout",
       "text": [
        " 0.657539960079\n",
        "scv-rbf"
       ]
      },
      {
       "output_type": "stream",
       "stream": "stdout",
       "text": [
        " 0.687695983548\n",
        "scv-rbf"
       ]
      },
      {
       "output_type": "stream",
       "stream": "stdout",
       "text": [
        " 0.719235019163\n",
        "scv-rbf"
       ]
      },
      {
       "output_type": "stream",
       "stream": "stdout",
       "text": [
        " 0.752220494471\n",
        "scv-rbf"
       ]
      },
      {
       "output_type": "stream",
       "stream": "stdout",
       "text": [
        " 0.786718745927\n",
        "scv-rbf"
       ]
      },
      {
       "output_type": "stream",
       "stream": "stdout",
       "text": [
        " 0.822799152299\n",
        "scv-rbf"
       ]
      },
      {
       "output_type": "stream",
       "stream": "stdout",
       "text": [
        " 0.860534274198\n",
        "scv-rbf"
       ]
      },
      {
       "output_type": "stream",
       "stream": "stdout",
       "text": [
        " 0.9\n",
        "{('lrl2', 0.52547307309743674): Counter({True: 808, 'fp': 123, 'fn': 69}), ('scv-rbf', 0.30680216727829357): Counter({True: 805, 'fp': 171, 'fn': 24}), ('scv-sig', 0.15658255283169173): Counter({True: 752, 'fp': 248}), ('lrl2', 0.13087178368514088): Counter({True: 752, 'fp': 195, 'fn': 53}), ('scv-lin', 0.43919068319631621): Counter({True: 801, 'fp': 161, 'fn': 38}), ('scv-rbf', 0.48039866566730921): Counter({True: 864, 'fp': 84, 'fn': 52}), ('scv-lin', 0.5747766808779754): Counter({True: 810, 'fp': 135, 'fn': 55}), ('scv-lin', 0.14971628161451581): Counter({True: 741, 'fp': 254, 'fn': 5}), ('scv-sig', 0.26818557365429724): Counter({True: 756, 'fp': 244}), ('scv-lin', 0.10458618871850887): Counter({True: 773, 'fn': 116, 'fp': 111}), ('scv-sig', 0.38391060389670251): Counter({True: 756, 'fp': 244}), ('lrl2', 0.18734440045744791): Counter({True: 735, 'fp': 177, 'fn': 88}), ('scv-lin', 0.21432050689605225): Counter({True: 775, 'fp': 220, 'fn': 5}), ('lrl2', 0.22414964980477006): Counter({True: 732, 'fp': 176, 'fn': 92}), ('lrl2', 0.36707581431233549): Counter({True: 712, 'fp': 203, 'fn': 85}), ('lrl2', 0.10000000000000001): Counter({True: 706, 'fp': 181, 'fn': 113}), ('scv-lin', 0.30680216727829357): Counter({True: 763, 'fp': 237}), ('lrl2', 0.35097924382760604): Counter({True: 731, 'fp': 180, 'fn': 89}), ('scv-rbf', 0.43919068319631621): Counter({True: 848, 'fp': 93, 'fn': 59}), ('scv-lin', 0.20492237983056305): Counter({True: 766, 'fp': 225, 'fn': 9}), ('scv-lin', 0.17127423764930305): Counter({True: 778, 'fp': 120, 'fn': 102}), ('scv-sig', 0.32087269366215138): Counter({True: 737, 'fp': 263}), ('lrl2', 0.25642541997214563): Counter({True: 741, 'fp': 159, 'fn': 100}), ('scv-rbf', 0.21432050689605225): Counter({True: 804, 'fp': 134, 'fn': 62}), ('lrl2', 0.7522204944712565): Counter({True: 827, 'fp': 102, 'fn': 71}), ('scv-rbf', 0.10938270870663554): Counter({True: 823, 'fp': 137, 'fn': 40}), ('scv-lin', 0.40151746870177241): Counter({True: 735, 'fp': 145, 'fn': 120}), ('scv-sig', 0.65753996007891269): Counter({True: 751, 'fp': 249}), ('lrl2', 0.50243065507601048): Counter({True: 819, 'fp': 121, 'fn': 60}), ('scv-sig', 0.54957225989463332): Counter({True: 733, 'fp': 267}), ('lrl2', 0.71923501916284494): Counter({True: 844, 'fp': 108, 'fn': 48}), ('scv-rbf', 0.11439920615333872): Counter({True: 804, 'fp': 174, 'fn': 22}), ('scv-sig', 0.40151746870177241): Counter({True: 753, 'fp': 247}), ('scv-lin', 0.22414964980477006): Counter({True: 761, 'fp': 141, 'fn': 98}), ('scv-sig', 0.10000000000000001): Counter({True: 767, 'fp': 233}), ('lrl2', 0.45933279676180772): Counter({True: 769, 'fp': 133, 'fn': 98}), ('scv-rbf', 0.68769598354773964): Counter({True: 883, 'fp': 86, 'fn': 31}), ('scv-sig', 0.29334864482349943): Counter({True: 748, 'fp': 252}), ('scv-rbf', 0.54957225989463332): Counter({True: 855, 'fn': 85, 'fp': 60}), ('scv-lin', 0.28048507017789892): Counter({True: 784, 'fp': 118, 'fn': 98}), ('scv-lin', 0.48039866566730921): Counter({True: 815, 'fp': 152, 'fn': 33}), ('scv-sig', 0.78671874592700897): Counter({True: 740, 'fp': 260}), ('lrl2', 0.32087269366215138): Counter({True: 769, 'fp': 149, 'fn': 82}), ('scv-sig', 0.13687381066422019): Counter({True: 747, 'fp': 253}), ('scv-rbf', 0.71923501916284494): Counter({True: 888, 'fp': 72, 'fn': 40}), ('scv-sig', 0.41993181755421549): Counter({True: 726, 'fp': 274}), ('scv-sig', 0.17127423764930305): Counter({True: 750, 'fp': 250}), ('scv-rbf', 0.62870630255842397): Counter({True: 861, 'fp': 95, 'fn': 44}), ('scv-lin', 0.32087269366215138): Counter({True: 769, 'fp': 231}), ('scv-sig', 0.10938270870663554): Counter({True: 716, 'fp': 284}), ('scv-lin', 0.16376372420481197): Counter({True: 762, 'fp': 231, 'fn': 7}), ('scv-sig', 0.28048507017789892): Counter({True: 739, 'fp': 261}), ('scv-lin', 0.29334864482349943): Counter({True: 776, 'fn': 119, 'fp': 105}), ('scv-sig', 0.60113702417302095): Counter({True: 758, 'fp': 242}), ('scv-rbf', 0.28048507017789892): Counter({True: 818, 'fp': 161, 'fn': 21}), ('scv-sig', 0.90000000000000002): Counter({True: 756, 'fp': 244}), ('scv-lin', 0.41993181755421549): Counter({True: 772, 'fp': 156, 'fn': 72}), ('scv-sig', 0.14971628161451581): Counter({True: 742, 'fp': 258}), ('scv-rbf', 0.45933279676180772): Counter({True: 848, 'fn': 83, 'fp': 69}), ('scv-sig', 0.13087178368514088): Counter({True: 735, 'fp': 265}), ('scv-rbf', 0.25642541997214563): Counter({True: 817, 'fp': 171, 'fn': 12}), ('scv-sig', 0.43919068319631621): Counter({True: 743, 'fp': 257}), ('scv-rbf', 0.16376372420481197): Counter({True: 777, 'fp': 180, 'fn': 43}), ('scv-rbf', 0.40151746870177241): Counter({True: 834, 'fp': 99, 'fn': 67}), ('scv-sig', 0.33558852093966052): Counter({True: 732, 'fp': 268}), ('scv-sig', 0.45933279676180772): Counter({True: 748, 'fp': 252}), ('lrl2', 0.26818557365429724): Counter({True: 729, 'fp': 187, 'fn': 84}), ('scv-lin', 0.65753996007891269): Counter({True: 844, 'fp': 116, 'fn': 40}), ('scv-sig', 0.1791291974140875): Counter({True: 747, 'fp': 253}), ('scv-rbf', 0.86053427419783635): Counter({True: 874, 'fp': 99, 'fn': 27}), ('lrl2', 0.19593636821598551): Counter({True: 770, 'fp': 158, 'fn': 72}), ('scv-rbf', 0.11964576964000685): Counter({True: 801, 'fp': 149, 'fn': 50}), ('scv-lin', 0.14315110192749586): Counter({True: 768, 'fp': 228, 'fn': 4}), ('lrl2', 0.20492237983056305): Counter({True: 705, 'fp': 197, 'fn': 98}), ('scv-sig', 0.20492237983056305): Counter({True: 738, 'fp': 262}), ('scv-rbf', 0.90000000000000002): Counter({True: 862, 'fp': 88, 'fn': 50}), ('lrl2', 0.30680216727829357): Counter({True: 723, 'fp': 201, 'fn': 76}), ('scv-lin', 0.10000000000000001): Counter({True: 769, 'fn': 116, 'fp': 115}), ('scv-lin', 0.36707581431233549): Counter({True: 757, 'fp': 176, 'fn': 67}), ('scv-lin', 0.24518095851289529): Counter({True: 780, 'fp': 120, 'fn': 100}), ('lrl2', 0.13687381066422019): Counter({True: 761, 'fp': 170, 'fn': 69}), ('lrl2', 0.10458618871850887): Counter({True: 763, 'fp': 161, 'fn': 76}), ('lrl2', 0.5747766808779754): Counter({True: 804, 'fp': 128, 'fn': 68}), ('scv-lin', 0.13087178368514088): Counter({True: 768, 'fp': 122, 'fn': 110}), ('scv-rbf', 0.78671874592700897): Counter({True: 881, 'fp': 76, 'fn': 43}), ('scv-lin', 0.11439920615333872): Counter({True: 771, 'fp': 226, 'fn': 3}), ('scv-lin', 0.15658255283169173): Counter({True: 743, 'fp': 252, 'fn': 5}), ('lrl2', 0.1791291974140875): Counter({True: 762, 'fp': 180, 'fn': 58}), ('scv-lin', 0.60113702417302095): Counter({True: 823, 'fp': 93, 'fn': 84}), ('scv-sig', 0.18734440045744791): Counter({True: 747, 'fp': 253}), ('scv-rbf', 0.38391060389670251): Counter({True: 843, 'fp': 93, 'fn': 64}), ('scv-sig', 0.12513295042940997): Counter({True: 737, 'fp': 263}), ('scv-sig', 0.23442957575669357): Counter({True: 776, 'fp': 224}), ('scv-lin', 0.78671874592700897): Counter({True: 838, 'fp': 110, 'fn': 52}), ('scv-sig', 0.22414964980477006): Counter({True: 748, 'fp': 252}), ('scv-rbf', 0.14971628161451581): Counter({True: 826, 'fp': 125, 'fn': 49}), ('scv-rbf', 0.15658255283169173): Counter({True: 786, 'fp': 157, 'fn': 57}), ('lrl2', 0.14315110192749586): Counter({True: 750, 'fp': 155, 'fn': 95}), ('scv-lin', 0.18734440045744791): Counter({True: 734, 'fp': 156, 'fn': 110}), ('scv-rbf', 0.60113702417302095): Counter({True: 853, 'fp': 84, 'fn': 63}), ('lrl2', 0.60113702417302095): Counter({True: 848, 'fp': 101, 'fn': 51}), ('scv-rbf', 0.82279915229910794): Counter({True: 849, 'fn': 77, 'fp': 74}), ('lrl2', 0.10938270870663554): Counter({True: 752, 'fp': 163, 'fn': 85}), ('lrl2', 0.15658255283169173): Counter({True: 760, 'fp': 179, 'fn': 61}), ('lrl2', 0.11439920615333872): Counter({True: 761, 'fp': 162, 'fn': 77}), ('scv-sig', 0.50243065507601048): Counter({True: 773, 'fp': 227}), ('scv-sig', 0.52547307309743674): Counter({True: 745, 'fp': 255}), ('scv-rbf', 0.17127423764930305): Counter({True: 821, 'fp': 129, 'fn': 50}), ('scv-lin', 0.10938270870663554): Counter({True: 772, 'fp': 221, 'fn': 7}), ('scv-rbf', 0.12513295042940997): Counter({True: 817, 'fp': 119, 'fn': 64}), ('scv-sig', 0.10458618871850887): Counter({True: 746, 'fp': 254}), ('scv-lin', 0.13687381066422019): Counter({True: 756, 'fp': 146, 'fn': 98}), ('lrl2', 0.24518095851289529): Counter({True: 745, 'fp': 144, 'fn': 111}), ('scv-rbf', 0.36707581431233549): Counter({True: 818, 'fp': 102, 'fn': 80}), ('scv-rbf', 0.26818557365429724): Counter({True: 832, 'fp': 121, 'fn': 47}), ('lrl2', 0.86053427419783635): Counter({True: 851, 'fp': 92, 'fn': 57}), ('scv-sig', 0.14315110192749586): Counter({True: 756, 'fp': 244}), ('scv-rbf', 0.5747766808779754): Counter({True: 880, 'fp': 88, 'fn': 32}), ('scv-lin', 0.35097924382760604): Counter({True: 773, 'fp': 143, 'fn': 84}), ('scv-rbf', 0.50243065507601048): Counter({True: 865, 'fp': 101, 'fn': 34}), ('lrl2', 0.23442957575669357): Counter({True: 774, 'fp': 162, 'fn': 64}), ('scv-lin', 0.19593636821598551): Counter({True: 760, 'fp': 122, 'fn': 118}), ('lrl2', 0.12513295042940997): Counter({True: 780, 'fp': 156, 'fn': 64}), ('scv-sig', 0.30680216727829357): Counter({True: 755, 'fp': 245}), ('lrl2', 0.90000000000000002): Counter({True: 825, 'fp': 126, 'fn': 49}), ('scv-lin', 0.68769598354773964): Counter({True: 839, 'fp': 83, 'fn': 78}), ('scv-lin', 0.38391060389670251): Counter({True: 711, 'fp': 159, 'fn': 130}), ('lrl2', 0.40151746870177241): Counter({True: 767, 'fp': 148, 'fn': 85}), ('scv-sig', 0.21432050689605225): Counter({True: 750, 'fp': 250}), ('scv-rbf', 0.35097924382760604): Counter({True: 835, 'fp': 91, 'fn': 74}), ('scv-lin', 0.82279915229910794): Counter({True: 849, 'fp': 87, 'fn': 64}), ('scv-rbf', 0.1791291974140875): Counter({True: 830, 'fp': 120, 'fn': 50}), ('scv-rbf', 0.19593636821598551): Counter({True: 829, 'fp': 119, 'fn': 52}), ('scv-sig', 0.5747766808779754): Counter({True: 753, 'fp': 247}), ('lrl2', 0.41993181755421549): Counter({True: 746, 'fp': 162, 'fn': 92}), ('lrl2', 0.33558852093966052): Counter({True: 741, 'fp': 168, 'fn': 91}), ('scv-rbf', 0.65753996007891269): Counter({True: 872, 'fp': 105, 'fn': 23}), ('lrl2', 0.29334864482349943): Counter({True: 737, 'fp': 156, 'fn': 107}), ('scv-sig', 0.36707581431233549): Counter({True: 750, 'fp': 250}), ('lrl2', 0.16376372420481197): Counter({True: 745, 'fp': 147, 'fn': 108}), ('scv-rbf', 0.33558852093966052): Counter({True: 837, 'fp': 113, 'fn': 50}), ('scv-rbf', 0.41993181755421549): Counter({True: 864, 'fp': 73, 'fn': 63}), ('scv-sig', 0.11964576964000685): Counter({True: 720, 'fp': 280}), ('scv-lin', 0.26818557365429724): Counter({True: 796, 'fp': 105, 'fn': 99}), ('lrl2', 0.28048507017789892): Counter({True: 741, 'fp': 174, 'fn': 85}), ('scv-sig', 0.62870630255842397): Counter({True: 733, 'fp': 267}), ('scv-lin', 0.45933279676180772): Counter({True: 827, 'fp': 119, 'fn': 54}), ('scv-lin', 0.33558852093966052): Counter({True: 730, 'fp': 156, 'fn': 114}), ('scv-rbf', 0.7522204944712565): Counter({True: 889, 'fp': 60, 'fn': 51}), ('scv-lin', 0.71923501916284494): Counter({True: 847, 'fp': 96, 'fn': 57}), ('scv-rbf', 0.23442957575669357): Counter({True: 815, 'fp': 166, 'fn': 19}), ('scv-rbf', 0.32087269366215138): Counter({True: 835, 'fp': 116, 'fn': 49}), ('scv-rbf', 0.29334864482349943): Counter({True: 790, 'fp': 149, 'fn': 61}), ('scv-lin', 0.50243065507601048): Counter({True: 805, 'fp': 130, 'fn': 65}), ('scv-rbf', 0.14315110192749586): Counter({True: 841, 'fp': 112, 'fn': 47}), ('lrl2', 0.54957225989463332): Counter({True: 805, 'fp': 121, 'fn': 74}), ('lrl2', 0.38391060389670251): Counter({True: 722, 'fp': 161, 'fn': 117}), ('scv-rbf', 0.20492237983056305): Counter({True: 817, 'fp': 119, 'fn': 64}), ('lrl2', 0.68769598354773964): Counter({True: 833, 'fp': 115, 'fn': 52}), ('scv-lin', 0.90000000000000002): Counter({True: 862, 'fp': 79, 'fn': 59}), ('scv-sig', 0.68769598354773964): Counter({True: 735, 'fp': 265}), ('scv-sig', 0.86053427419783635): Counter({True: 732, 'fp': 268}), ('scv-lin', 0.54957225989463332): Counter({True: 824, 'fp': 125, 'fn': 51}), ('scv-rbf', 0.24518095851289529): Counter({True: 816, 'fp': 131, 'fn': 53}), ('scv-lin', 0.7522204944712565): Counter({True: 820, 'fp': 129, 'fn': 51}), ('scv-sig', 0.16376372420481197): Counter({True: 719, 'fp': 281}), ('scv-lin', 0.23442957575669357): Counter({True: 751, 'fp': 243, 'fn': 6}), ('scv-sig', 0.19593636821598551): Counter({True: 746, 'fp': 254}), ('scv-lin', 0.25642541997214563): Counter({True: 783, 'fn': 117, 'fp': 100}), ('scv-rbf', 0.22414964980477006): Counter({True: 826, 'fp': 128, 'fn': 46}), ('scv-sig', 0.25642541997214563): Counter({True: 741, 'fp': 259}), ('scv-sig', 0.48039866566730921): Counter({True: 743, 'fp': 257}), ('lrl2', 0.65753996007891269): Counter({True: 830, 'fp': 114, 'fn': 56}), ('lrl2', 0.17127423764930305): Counter({True: 711, 'fp': 198, 'fn': 91}), ('scv-sig', 0.35097924382760604): Counter({True: 726, 'fp': 274}), ('scv-lin', 0.86053427419783635): Counter({True: 848, 'fp': 97, 'fn': 55}), ('scv-sig', 0.7522204944712565): Counter({True: 760, 'fp': 240}), ('scv-rbf', 0.10000000000000001): Counter({True: 841, 'fp': 121, 'fn': 38}), ('scv-rbf', 0.10458618871850887): Counter({True: 827, 'fp': 159, 'fn': 14}), ('scv-sig', 0.11439920615333872): Counter({True: 742, 'fp': 258}), ('lrl2', 0.21432050689605225): Counter({True: 734, 'fp': 201, 'fn': 65}), ('lrl2', 0.14971628161451581): Counter({True: 731, 'fp': 211, 'fn': 58}), ('scv-sig', 0.71923501916284494): Counter({True: 738, 'fp': 262}), ('lrl2', 0.48039866566730921): Counter({True: 822, 'fp': 133, 'fn': 45}), ('lrl2', 0.43919068319631621): Counter({True: 757, 'fp': 180, 'fn': 63}), ('lrl2', 0.82279915229910794): Counter({True: 810, 'fp': 138, 'fn': 52}), ('scv-lin', 0.52547307309743674): Counter({True: 832, 'fp': 123, 'fn': 45}), ('scv-sig', 0.24518095851289529): Counter({True: 742, 'fp': 258}), ('scv-lin', 0.62870630255842397): Counter({True: 827, 'fp': 119, 'fn': 54}), ('scv-rbf', 0.18734440045744791): Counter({True: 816, 'fp': 137, 'fn': 47}), ('scv-sig', 0.82279915229910794): Counter({True: 754, 'fp': 246}), ('scv-lin', 0.11964576964000685): Counter({True: 785, 'fn': 113, 'fp': 102}), ('lrl2', 0.78671874592700897): Counter({True: 850, 'fp': 102, 'fn': 48}), ('scv-rbf', 0.13087178368514088): Counter({True: 825, 'fp': 121, 'fn': 54}), ('scv-rbf', 0.13687381066422019): Counter({True: 787, 'fp': 111, 'fn': 102}), ('scv-rbf', 0.52547307309743674): Counter({True: 855, 'fp': 86, 'fn': 59}), ('lrl2', 0.11964576964000685): Counter({True: 710, 'fp': 199, 'fn': 91}), ('scv-lin', 0.12513295042940997): Counter({True: 787, 'fp': 113, 'fn': 100}), ('scv-lin', 0.1791291974140875): Counter({True: 780, 'fp': 213, 'fn': 7}), ('lrl2', 0.62870630255842397): Counter({True: 840, 'fp': 111, 'fn': 49})}"
       ]
      },
      {
       "output_type": "stream",
       "stream": "stdout",
       "text": [
        "\n",
        "lrl1 0.1\n",
        "lrl1"
       ]
      },
      {
       "output_type": "stream",
       "stream": "stdout",
       "text": [
        " 0.104586188719\n",
        "lrl1"
       ]
      },
      {
       "output_type": "stream",
       "stream": "stdout",
       "text": [
        " 0.109382708707\n",
        "lrl1"
       ]
      },
      {
       "output_type": "stream",
       "stream": "stdout",
       "text": [
        " 0.114399206153\n",
        "lrl1"
       ]
      },
      {
       "output_type": "stream",
       "stream": "stdout",
       "text": [
        " 0.11964576964\n",
        "lrl1"
       ]
      },
      {
       "output_type": "stream",
       "stream": "stdout",
       "text": [
        " 0.125132950429\n",
        "lrl1"
       ]
      },
      {
       "output_type": "stream",
       "stream": "stdout",
       "text": [
        " 0.130871783685\n",
        "lrl1"
       ]
      },
      {
       "output_type": "stream",
       "stream": "stdout",
       "text": [
        " 0.136873810664\n",
        "lrl1"
       ]
      },
      {
       "output_type": "stream",
       "stream": "stdout",
       "text": [
        " 0.143151101927\n",
        "lrl1"
       ]
      },
      {
       "output_type": "stream",
       "stream": "stdout",
       "text": [
        " 0.149716281615\n",
        "lrl1"
       ]
      },
      {
       "output_type": "stream",
       "stream": "stdout",
       "text": [
        " 0.156582552832\n",
        "lrl1"
       ]
      },
      {
       "output_type": "stream",
       "stream": "stdout",
       "text": [
        " 0.163763724205\n",
        "lrl1"
       ]
      },
      {
       "output_type": "stream",
       "stream": "stdout",
       "text": [
        " 0.171274237649\n",
        "lrl1"
       ]
      },
      {
       "output_type": "stream",
       "stream": "stdout",
       "text": [
        " 0.179129197414\n",
        "lrl1"
       ]
      },
      {
       "output_type": "stream",
       "stream": "stdout",
       "text": [
        " 0.187344400457\n",
        "lrl1"
       ]
      },
      {
       "output_type": "stream",
       "stream": "stdout",
       "text": [
        " 0.195936368216\n",
        "lrl1"
       ]
      },
      {
       "output_type": "stream",
       "stream": "stdout",
       "text": [
        " 0.204922379831\n",
        "lrl1"
       ]
      },
      {
       "output_type": "stream",
       "stream": "stdout",
       "text": [
        " 0.214320506896\n",
        "lrl1"
       ]
      },
      {
       "output_type": "stream",
       "stream": "stdout",
       "text": [
        " 0.224149649805\n",
        "lrl1"
       ]
      },
      {
       "output_type": "stream",
       "stream": "stdout",
       "text": [
        " 0.234429575757\n",
        "lrl1"
       ]
      },
      {
       "output_type": "stream",
       "stream": "stdout",
       "text": [
        " 0.245180958513\n",
        "lrl1"
       ]
      },
      {
       "output_type": "stream",
       "stream": "stdout",
       "text": [
        " 0.256425419972\n",
        "lrl1"
       ]
      },
      {
       "output_type": "stream",
       "stream": "stdout",
       "text": [
        " 0.268185573654\n",
        "lrl1"
       ]
      },
      {
       "output_type": "stream",
       "stream": "stdout",
       "text": [
        " 0.280485070178\n",
        "lrl1"
       ]
      },
      {
       "output_type": "stream",
       "stream": "stdout",
       "text": [
        " 0.293348644823\n",
        "lrl1"
       ]
      },
      {
       "output_type": "stream",
       "stream": "stdout",
       "text": [
        " 0.306802167278\n",
        "lrl1"
       ]
      },
      {
       "output_type": "stream",
       "stream": "stdout",
       "text": [
        " 0.320872693662\n",
        "lrl1"
       ]
      },
      {
       "output_type": "stream",
       "stream": "stdout",
       "text": [
        " 0.33558852094\n",
        "lrl1"
       ]
      },
      {
       "output_type": "stream",
       "stream": "stdout",
       "text": [
        " 0.350979243828\n",
        "lrl1"
       ]
      },
      {
       "output_type": "stream",
       "stream": "stdout",
       "text": [
        " 0.367075814312\n",
        "lrl1"
       ]
      },
      {
       "output_type": "stream",
       "stream": "stdout",
       "text": [
        " 0.383910603897\n",
        "lrl1"
       ]
      },
      {
       "output_type": "stream",
       "stream": "stdout",
       "text": [
        " 0.401517468702\n",
        "lrl1"
       ]
      },
      {
       "output_type": "stream",
       "stream": "stdout",
       "text": [
        " 0.419931817554\n",
        "lrl1"
       ]
      },
      {
       "output_type": "stream",
       "stream": "stdout",
       "text": [
        " 0.439190683196\n",
        "lrl1"
       ]
      },
      {
       "output_type": "stream",
       "stream": "stdout",
       "text": [
        " 0.459332796762\n",
        "lrl1"
       ]
      },
      {
       "output_type": "stream",
       "stream": "stdout",
       "text": [
        " 0.480398665667\n",
        "lrl1"
       ]
      },
      {
       "output_type": "stream",
       "stream": "stdout",
       "text": [
        " 0.502430655076\n",
        "lrl1"
       ]
      },
      {
       "output_type": "stream",
       "stream": "stdout",
       "text": [
        " 0.525473073097\n",
        "lrl1"
       ]
      },
      {
       "output_type": "stream",
       "stream": "stdout",
       "text": [
        " 0.549572259895\n",
        "lrl1"
       ]
      },
      {
       "output_type": "stream",
       "stream": "stdout",
       "text": [
        " 0.574776680878\n",
        "lrl1"
       ]
      },
      {
       "output_type": "stream",
       "stream": "stdout",
       "text": [
        " 0.601137024173\n",
        "lrl1"
       ]
      },
      {
       "output_type": "stream",
       "stream": "stdout",
       "text": [
        " 0.628706302558\n",
        "lrl1"
       ]
      },
      {
       "output_type": "stream",
       "stream": "stdout",
       "text": [
        " 0.657539960079\n",
        "lrl1"
       ]
      },
      {
       "output_type": "stream",
       "stream": "stdout",
       "text": [
        " 0.687695983548\n",
        "lrl1"
       ]
      },
      {
       "output_type": "stream",
       "stream": "stdout",
       "text": [
        " 0.719235019163\n",
        "lrl1"
       ]
      },
      {
       "output_type": "stream",
       "stream": "stdout",
       "text": [
        " 0.752220494471\n",
        "lrl1"
       ]
      },
      {
       "output_type": "stream",
       "stream": "stdout",
       "text": [
        " 0.786718745927\n",
        "lrl1"
       ]
      },
      {
       "output_type": "stream",
       "stream": "stdout",
       "text": [
        " 0.822799152299\n",
        "lrl1"
       ]
      },
      {
       "output_type": "stream",
       "stream": "stdout",
       "text": [
        " 0.860534274198\n",
        "lrl1"
       ]
      },
      {
       "output_type": "stream",
       "stream": "stdout",
       "text": [
        " 0.9\n",
        "{('lrl1', 0.5747766808779754): Counter({True: 820, 'fp': 130, 'fn': 50}), ('lrl2', 0.52547307309743674): Counter({True: 808, 'fp': 123, 'fn': 69}), ('scv-rbf', 0.30680216727829357): Counter({True: 805, 'fp': 171, 'fn': 24}), ('scv-sig', 0.15658255283169173): Counter({True: 752, 'fp': 248}), ('lrl1', 0.28048507017789892): Counter({True: 731, 'fp': 171, 'fn': 98}), ('lrl2', 0.13087178368514088): Counter({True: 752, 'fp': 195, 'fn': 53}), ('scv-lin', 0.43919068319631621): Counter({True: 801, 'fp': 161, 'fn': 38}), ('scv-rbf', 0.48039866566730921): Counter({True: 864, 'fp': 84, 'fn': 52}), ('scv-lin', 0.5747766808779754): Counter({True: 810, 'fp': 135, 'fn': 55}), ('scv-lin', 0.14971628161451581): Counter({True: 741, 'fp': 254, 'fn': 5}), ('scv-sig', 0.26818557365429724): Counter({True: 756, 'fp': 244}), ('scv-lin', 0.10458618871850887): Counter({True: 773, 'fn': 116, 'fp': 111}), ('scv-sig', 0.38391060389670251): Counter({True: 756, 'fp': 244}), ('lrl2', 0.18734440045744791): Counter({True: 735, 'fp': 177, 'fn': 88}), ('scv-lin', 0.21432050689605225): Counter({True: 775, 'fp': 220, 'fn': 5}), ('lrl2', 0.22414964980477006): Counter({True: 732, 'fp': 176, 'fn': 92}), ('lrl2', 0.36707581431233549): Counter({True: 712, 'fp': 203, 'fn': 85}), ('lrl2', 0.10000000000000001): Counter({True: 706, 'fp': 181, 'fn': 113}), ('lrl1', 0.54957225989463332): Counter({True: 835, 'fp': 117, 'fn': 48}), ('scv-lin', 0.30680216727829357): Counter({True: 763, 'fp': 237}), ('lrl2', 0.35097924382760604): Counter({True: 731, 'fp': 180, 'fn': 89}), ('scv-rbf', 0.43919068319631621): Counter({True: 848, 'fp': 93, 'fn': 59}), ('scv-lin', 0.20492237983056305): Counter({True: 766, 'fp': 225, 'fn': 9}), ('scv-lin', 0.17127423764930305): Counter({True: 778, 'fp': 120, 'fn': 102}), ('scv-sig', 0.32087269366215138): Counter({True: 737, 'fp': 263}), ('lrl1', 0.30680216727829357): Counter({True: 746, 'fp': 163, 'fn': 91}), ('lrl2', 0.25642541997214563): Counter({True: 741, 'fp': 159, 'fn': 100}), ('lrl1', 0.26818557365429724): Counter({True: 736, 'fp': 177, 'fn': 87}), ('scv-rbf', 0.21432050689605225): Counter({True: 804, 'fp': 134, 'fn': 62}), ('lrl1', 0.14971628161451581): Counter({True: 736, 'fp': 173, 'fn': 91}), ('lrl2', 0.7522204944712565): Counter({True: 827, 'fp': 102, 'fn': 71}), ('scv-rbf', 0.10938270870663554): Counter({True: 823, 'fp': 137, 'fn': 40}), ('lrl1', 0.65753996007891269): Counter({True: 805, 'fp': 116, 'fn': 79}), ('lrl1', 0.52547307309743674): Counter({True: 810, 'fp': 146, 'fn': 44}), ('scv-lin', 0.40151746870177241): Counter({True: 735, 'fp': 145, 'fn': 120}), ('scv-sig', 0.65753996007891269): Counter({True: 751, 'fp': 249}), ('lrl2', 0.50243065507601048): Counter({True: 819, 'fp': 121, 'fn': 60}), ('scv-sig', 0.54957225989463332): Counter({True: 733, 'fp': 267}), ('lrl2', 0.71923501916284494): Counter({True: 844, 'fp': 108, 'fn': 48}), ('scv-rbf', 0.11439920615333872): Counter({True: 804, 'fp': 174, 'fn': 22}), ('scv-sig', 0.40151746870177241): Counter({True: 753, 'fp': 247}), ('scv-lin', 0.22414964980477006): Counter({True: 761, 'fp': 141, 'fn': 98}), ('scv-sig', 0.10000000000000001): Counter({True: 767, 'fp': 233}), ('lrl2', 0.45933279676180772): Counter({True: 769, 'fp': 133, 'fn': 98}), ('scv-rbf', 0.68769598354773964): Counter({True: 883, 'fp': 86, 'fn': 31}), ('scv-sig', 0.29334864482349943): Counter({True: 748, 'fp': 252}), ('scv-rbf', 0.54957225989463332): Counter({True: 855, 'fn': 85, 'fp': 60}), ('scv-lin', 0.28048507017789892): Counter({True: 784, 'fp': 118, 'fn': 98}), ('scv-lin', 0.48039866566730921): Counter({True: 815, 'fp': 152, 'fn': 33}), ('scv-sig', 0.78671874592700897): Counter({True: 740, 'fp': 260}), ('lrl2', 0.32087269366215138): Counter({True: 769, 'fp': 149, 'fn': 82}), ('scv-sig', 0.13687381066422019): Counter({True: 747, 'fp': 253}), ('lrl1', 0.14315110192749586): Counter({True: 769, 'fp': 164, 'fn': 67}), ('scv-rbf', 0.71923501916284494): Counter({True: 888, 'fp': 72, 'fn': 40}), ('lrl1', 0.50243065507601048): Counter({True: 832, 'fp': 121, 'fn': 47}), ('scv-sig', 0.41993181755421549): Counter({True: 726, 'fp': 274}), ('scv-sig', 0.17127423764930305): Counter({True: 750, 'fp': 250}), ('scv-rbf', 0.62870630255842397): Counter({True: 861, 'fp': 95, 'fn': 44}), ('scv-lin', 0.32087269366215138): Counter({True: 769, 'fp': 231}), ('scv-sig', 0.10938270870663554): Counter({True: 716, 'fp': 284}), ('scv-lin', 0.16376372420481197): Counter({True: 762, 'fp': 231, 'fn': 7}), ('scv-sig', 0.28048507017789892): Counter({True: 739, 'fp': 261}), ('scv-lin', 0.29334864482349943): Counter({True: 776, 'fn': 119, 'fp': 105}), ('lrl1', 0.21432050689605225): Counter({True: 773, 'fp': 154, 'fn': 73}), ('scv-sig', 0.60113702417302095): Counter({True: 758, 'fp': 242}), ('scv-rbf', 0.28048507017789892): Counter({True: 818, 'fp': 161, 'fn': 21}), ('scv-sig', 0.90000000000000002): Counter({True: 756, 'fp': 244}), ('scv-lin', 0.41993181755421549): Counter({True: 772, 'fp': 156, 'fn': 72}), ('scv-sig', 0.14971628161451581): Counter({True: 742, 'fp': 258}), ('scv-rbf', 0.45933279676180772): Counter({True: 848, 'fn': 83, 'fp': 69}), ('scv-sig', 0.13087178368514088): Counter({True: 735, 'fp': 265}), ('scv-rbf', 0.25642541997214563): Counter({True: 817, 'fp': 171, 'fn': 12}), ('scv-sig', 0.43919068319631621): Counter({True: 743, 'fp': 257}), ('scv-rbf', 0.16376372420481197): Counter({True: 777, 'fp': 180, 'fn': 43}), ('scv-rbf', 0.40151746870177241): Counter({True: 834, 'fp': 99, 'fn': 67}), ('scv-sig', 0.33558852093966052): Counter({True: 732, 'fp': 268}), ('scv-sig', 0.45933279676180772): Counter({True: 748, 'fp': 252}), ('lrl1', 0.36707581431233549): Counter({True: 765, 'fp': 131, 'fn': 104}), ('lrl2', 0.26818557365429724): Counter({True: 729, 'fp': 187, 'fn': 84}), ('scv-lin', 0.65753996007891269): Counter({True: 844, 'fp': 116, 'fn': 40}), ('scv-sig', 0.1791291974140875): Counter({True: 747, 'fp': 253}), ('lrl1', 0.35097924382760604): Counter({True: 754, 'fp': 168, 'fn': 78}), ('lrl1', 0.38391060389670251): Counter({True: 777, 'fp': 138, 'fn': 85}), ('scv-rbf', 0.86053427419783635): Counter({True: 874, 'fp': 99, 'fn': 27}), ('lrl2', 0.19593636821598551): Counter({True: 770, 'fp': 158, 'fn': 72}), ('scv-rbf', 0.11964576964000685): Counter({True: 801, 'fp': 149, 'fn': 50}), ('scv-lin', 0.14315110192749586): Counter({True: 768, 'fp': 228, 'fn': 4}), ('lrl2', 0.20492237983056305): Counter({True: 705, 'fp': 197, 'fn': 98}), ('lrl1', 0.13687381066422019): Counter({True: 754, 'fp': 153, 'fn': 93}), ('scv-sig', 0.20492237983056305): Counter({True: 738, 'fp': 262}), ('lrl1', 0.29334864482349943): Counter({True: 747, 'fp': 192, 'fn': 61}), ('scv-rbf', 0.90000000000000002): Counter({True: 862, 'fp': 88, 'fn': 50}), ('lrl2', 0.30680216727829357): Counter({True: 723, 'fp': 201, 'fn': 76}), ('lrl1', 0.43919068319631621): Counter({True: 793, 'fn': 113, 'fp': 94}), ('scv-lin', 0.10000000000000001): Counter({True: 769, 'fn': 116, 'fp': 115}), ('scv-lin', 0.36707581431233549): Counter({True: 757, 'fp': 176, 'fn': 67}), ('scv-lin', 0.24518095851289529): Counter({True: 780, 'fp': 120, 'fn': 100}), ('lrl2', 0.13687381066422019): Counter({True: 761, 'fp': 170, 'fn': 69}), ('lrl1', 0.13087178368514088): Counter({True: 737, 'fp': 177, 'fn': 86}), ('lrl1', 0.17127423764930305): Counter({True: 705, 'fp': 187, 'fn': 108}), ('lrl2', 0.10458618871850887): Counter({True: 763, 'fp': 161, 'fn': 76}), ('lrl1', 0.11439920615333872): Counter({True: 705, 'fp': 189, 'fn': 106}), ('lrl2', 0.5747766808779754): Counter({True: 804, 'fp': 128, 'fn': 68}), ('scv-lin', 0.13087178368514088): Counter({True: 768, 'fp': 122, 'fn': 110}), ('scv-rbf', 0.78671874592700897): Counter({True: 881, 'fp': 76, 'fn': 43}), ('lrl1', 0.1791291974140875): Counter({True: 754, 'fp': 153, 'fn': 93}), ('lrl1', 0.33558852093966052): Counter({True: 717, 'fp': 192, 'fn': 91}), ('scv-lin', 0.11439920615333872): Counter({True: 771, 'fp': 226, 'fn': 3}), ('scv-lin', 0.15658255283169173): Counter({True: 743, 'fp': 252, 'fn': 5}), ('lrl2', 0.1791291974140875): Counter({True: 762, 'fp': 180, 'fn': 58}), ('scv-lin', 0.60113702417302095): Counter({True: 823, 'fp': 93, 'fn': 84}), ('scv-sig', 0.18734440045744791): Counter({True: 747, 'fp': 253}), ('scv-rbf', 0.38391060389670251): Counter({True: 843, 'fp': 93, 'fn': 64}), ('scv-sig', 0.12513295042940997): Counter({True: 737, 'fp': 263}), ('lrl1', 0.10938270870663554): Counter({True: 763, 'fp': 174, 'fn': 63}), ('lrl1', 0.41993181755421549): Counter({True: 777, 'fp': 141, 'fn': 82}), ('lrl1', 0.10458618871850887): Counter({True: 750, 'fp': 172, 'fn': 78}), ('scv-sig', 0.23442957575669357): Counter({True: 776, 'fp': 224}), ('scv-lin', 0.78671874592700897): Counter({True: 838, 'fp': 110, 'fn': 52}), ('lrl1', 0.7522204944712565): Counter({True: 807, 'fp': 142, 'fn': 51}), ('scv-sig', 0.22414964980477006): Counter({True: 748, 'fp': 252}), ('scv-rbf', 0.14971628161451581): Counter({True: 826, 'fp': 125, 'fn': 49}), ('scv-rbf', 0.15658255283169173): Counter({True: 786, 'fp': 157, 'fn': 57}), ('lrl1', 0.23442957575669357): Counter({True: 741, 'fp': 162, 'fn': 97}), ('lrl2', 0.14315110192749586): Counter({True: 750, 'fp': 155, 'fn': 95}), ('scv-lin', 0.18734440045744791): Counter({True: 734, 'fp': 156, 'fn': 110}), ('scv-rbf', 0.60113702417302095): Counter({True: 853, 'fp': 84, 'fn': 63}), ('lrl2', 0.60113702417302095): Counter({True: 848, 'fp': 101, 'fn': 51}), ('scv-rbf', 0.82279915229910794): Counter({True: 849, 'fn': 77, 'fp': 74}), ('lrl2', 0.10938270870663554): Counter({True: 752, 'fp': 163, 'fn': 85}), ('lrl2', 0.15658255283169173): Counter({True: 760, 'fp': 179, 'fn': 61}), ('lrl2', 0.11439920615333872): Counter({True: 761, 'fp': 162, 'fn': 77}), ('scv-sig', 0.50243065507601048): Counter({True: 773, 'fp': 227}), ('scv-sig', 0.52547307309743674): Counter({True: 745, 'fp': 255}), ('lrl1', 0.18734440045744791): Counter({True: 751, 'fp': 155, 'fn': 94}), ('lrl1', 0.19593636821598551): Counter({True: 753, 'fp': 194, 'fn': 53}), ('lrl1', 0.11964576964000685): Counter({True: 755, 'fp': 155, 'fn': 90}), ('scv-rbf', 0.17127423764930305): Counter({True: 821, 'fp': 129, 'fn': 50}), ('scv-lin', 0.10938270870663554): Counter({True: 772, 'fp': 221, 'fn': 7}), ('scv-rbf', 0.12513295042940997): Counter({True: 817, 'fp': 119, 'fn': 64}), ('scv-sig', 0.10458618871850887): Counter({True: 746, 'fp': 254}), ('scv-lin', 0.13687381066422019): Counter({True: 756, 'fp': 146, 'fn': 98}), ('lrl2', 0.24518095851289529): Counter({True: 745, 'fp': 144, 'fn': 111}), ('scv-rbf', 0.36707581431233549): Counter({True: 818, 'fp': 102, 'fn': 80}), ('lrl1', 0.25642541997214563): Counter({True: 732, 'fp': 185, 'fn': 83}), ('lrl1', 0.32087269366215138): Counter({True: 735, 'fp': 167, 'fn': 98}), ('scv-rbf', 0.26818557365429724): Counter({True: 832, 'fp': 121, 'fn': 47}), ('lrl2', 0.86053427419783635): Counter({True: 851, 'fp': 92, 'fn': 57}), ('scv-sig', 0.14315110192749586): Counter({True: 756, 'fp': 244}), ('scv-rbf', 0.5747766808779754): Counter({True: 880, 'fp': 88, 'fn': 32}), ('scv-lin', 0.35097924382760604): Counter({True: 773, 'fp': 143, 'fn': 84}), ('scv-rbf', 0.50243065507601048): Counter({True: 865, 'fp': 101, 'fn': 34}), ('lrl2', 0.23442957575669357): Counter({True: 774, 'fp': 162, 'fn': 64}), ('scv-lin', 0.19593636821598551): Counter({True: 760, 'fp': 122, 'fn': 118}), ('lrl2', 0.12513295042940997): Counter({True: 780, 'fp': 156, 'fn': 64}), ('scv-sig', 0.30680216727829357): Counter({True: 755, 'fp': 245}), ('lrl1', 0.24518095851289529): Counter({True: 790, 'fp': 147, 'fn': 63}), ('lrl1', 0.15658255283169173): Counter({True: 734, 'fp': 198, 'fn': 68}), ('lrl2', 0.90000000000000002): Counter({True: 825, 'fp': 126, 'fn': 49}), ('scv-lin', 0.68769598354773964): Counter({True: 839, 'fp': 83, 'fn': 78}), ('scv-lin', 0.38391060389670251): Counter({True: 711, 'fp': 159, 'fn': 130}), ('lrl2', 0.40151746870177241): Counter({True: 767, 'fp': 148, 'fn': 85}), ('scv-sig', 0.21432050689605225): Counter({True: 750, 'fp': 250}), ('scv-rbf', 0.35097924382760604): Counter({True: 835, 'fp': 91, 'fn': 74}), ('scv-lin', 0.82279915229910794): Counter({True: 849, 'fp': 87, 'fn': 64}), ('lrl1', 0.12513295042940997): Counter({True: 744, 'fp': 133, 'fn': 123}), ('scv-rbf', 0.1791291974140875): Counter({True: 830, 'fp': 120, 'fn': 50}), ('lrl1', 0.20492237983056305): Counter({True: 718, 'fp': 149, 'fn': 133}), ('scv-rbf', 0.19593636821598551): Counter({True: 829, 'fp': 119, 'fn': 52}), ('scv-sig', 0.5747766808779754): Counter({True: 753, 'fp': 247}), ('lrl2', 0.41993181755421549): Counter({True: 746, 'fp': 162, 'fn': 92}), ('lrl2', 0.33558852093966052): Counter({True: 741, 'fp': 168, 'fn': 91}), ('scv-rbf', 0.65753996007891269): Counter({True: 872, 'fp': 105, 'fn': 23}), ('lrl2', 0.29334864482349943): Counter({True: 737, 'fp': 156, 'fn': 107}), ('scv-sig', 0.36707581431233549): Counter({True: 750, 'fp': 250}), ('lrl2', 0.16376372420481197): Counter({True: 745, 'fp': 147, 'fn': 108}), ('scv-rbf', 0.33558852093966052): Counter({True: 837, 'fp': 113, 'fn': 50}), ('lrl1', 0.78671874592700897): Counter({True: 821, 'fp': 127, 'fn': 52}), ('scv-rbf', 0.41993181755421549): Counter({True: 864, 'fp': 73, 'fn': 63}), ('lrl1', 0.45933279676180772): Counter({True: 814, 'fp': 126, 'fn': 60}), ('scv-sig', 0.11964576964000685): Counter({True: 720, 'fp': 280}), ('lrl1', 0.62870630255842397): Counter({True: 818, 'fp': 132, 'fn': 50}), ('scv-lin', 0.26818557365429724): Counter({True: 796, 'fp': 105, 'fn': 99}), ('lrl2', 0.28048507017789892): Counter({True: 741, 'fp': 174, 'fn': 85}), ('scv-sig', 0.62870630255842397): Counter({True: 733, 'fp': 267}), ('scv-lin', 0.45933279676180772): Counter({True: 827, 'fp': 119, 'fn': 54}), ('scv-lin', 0.33558852093966052): Counter({True: 730, 'fp': 156, 'fn': 114}), ('scv-rbf', 0.7522204944712565): Counter({True: 889, 'fp': 60, 'fn': 51}), ('lrl1', 0.82279915229910794): Counter({True: 834, 'fp': 106, 'fn': 60}), ('scv-lin', 0.71923501916284494): Counter({True: 847, 'fp': 96, 'fn': 57}), ('lrl1', 0.22414964980477006): Counter({True: 712, 'fp': 206, 'fn': 82}), ('scv-rbf', 0.23442957575669357): Counter({True: 815, 'fp': 166, 'fn': 19}), ('scv-rbf', 0.32087269366215138): Counter({True: 835, 'fp': 116, 'fn': 49}), ('scv-rbf', 0.29334864482349943): Counter({True: 790, 'fp': 149, 'fn': 61}), ('scv-lin', 0.50243065507601048): Counter({True: 805, 'fp': 130, 'fn': 65}), ('scv-rbf', 0.14315110192749586): Counter({True: 841, 'fp': 112, 'fn': 47}), ('lrl2', 0.54957225989463332): Counter({True: 805, 'fp': 121, 'fn': 74}), ('lrl1', 0.71923501916284494): Counter({True: 829, 'fp': 103, 'fn': 68}), ('lrl2', 0.38391060389670251): Counter({True: 722, 'fp': 161, 'fn': 117}), ('scv-rbf', 0.20492237983056305): Counter({True: 817, 'fp': 119, 'fn': 64}), ('lrl2', 0.68769598354773964): Counter({True: 833, 'fp': 115, 'fn': 52}), ('scv-lin', 0.90000000000000002): Counter({True: 862, 'fp': 79, 'fn': 59}), ('scv-sig', 0.68769598354773964): Counter({True: 735, 'fp': 265}), ('scv-sig', 0.86053427419783635): Counter({True: 732, 'fp': 268}), ('scv-lin', 0.54957225989463332): Counter({True: 824, 'fp': 125, 'fn': 51}), ('scv-rbf', 0.24518095851289529): Counter({True: 816, 'fp': 131, 'fn': 53}), ('scv-lin', 0.7522204944712565): Counter({True: 820, 'fp': 129, 'fn': 51}), ('scv-sig', 0.16376372420481197): Counter({True: 719, 'fp': 281}), ('scv-lin', 0.23442957575669357): Counter({True: 751, 'fp': 243, 'fn': 6}), ('scv-sig', 0.19593636821598551): Counter({True: 746, 'fp': 254}), ('scv-lin', 0.25642541997214563): Counter({True: 783, 'fn': 117, 'fp': 100}), ('scv-rbf', 0.22414964980477006): Counter({True: 826, 'fp': 128, 'fn': 46}), ('scv-sig', 0.25642541997214563): Counter({True: 741, 'fp': 259}), ('scv-sig', 0.48039866566730921): Counter({True: 743, 'fp': 257}), ('lrl2', 0.65753996007891269): Counter({True: 830, 'fp': 114, 'fn': 56}), ('lrl1', 0.16376372420481197): Counter({True: 756, 'fp': 182, 'fn': 62}), ('lrl2', 0.17127423764930305): Counter({True: 711, 'fp': 198, 'fn': 91}), ('scv-sig', 0.35097924382760604): Counter({True: 726, 'fp': 274}), ('lrl1', 0.60113702417302095): Counter({True: 831, 'fp': 120, 'fn': 49}), ('scv-lin', 0.86053427419783635): Counter({True: 848, 'fp': 97, 'fn': 55}), ('scv-sig', 0.7522204944712565): Counter({True: 760, 'fp': 240}), ('scv-rbf', 0.10000000000000001): Counter({True: 841, 'fp': 121, 'fn': 38}), ('scv-rbf', 0.10458618871850887): Counter({True: 827, 'fp': 159, 'fn': 14}), ('scv-sig', 0.11439920615333872): Counter({True: 742, 'fp': 258}), ('lrl2', 0.21432050689605225): Counter({True: 734, 'fp': 201, 'fn': 65}), ('lrl1', 0.86053427419783635): Counter({True: 803, 'fp': 122, 'fn': 75}), ('lrl2', 0.14971628161451581): Counter({True: 731, 'fp': 211, 'fn': 58}), ('scv-sig', 0.71923501916284494): Counter({True: 738, 'fp': 262}), ('lrl2', 0.48039866566730921): Counter({True: 822, 'fp': 133, 'fn': 45}), ('lrl2', 0.43919068319631621): Counter({True: 757, 'fp': 180, 'fn': 63}), ('lrl2', 0.82279915229910794): Counter({True: 810, 'fp': 138, 'fn': 52}), ('scv-lin', 0.52547307309743674): Counter({True: 832, 'fp': 123, 'fn': 45}), ('scv-sig', 0.24518095851289529): Counter({True: 742, 'fp': 258}), ('scv-lin', 0.62870630255842397): Counter({True: 827, 'fp': 119, 'fn': 54}), ('scv-rbf', 0.18734440045744791): Counter({True: 816, 'fp': 137, 'fn': 47}), ('lrl1', 0.68769598354773964): Counter({True: 843, 'fp': 101, 'fn': 56}), ('lrl1', 0.10000000000000001): Counter({True: 726, 'fp': 167, 'fn': 107}), ('scv-sig', 0.82279915229910794): Counter({True: 754, 'fp': 246}), ('scv-lin', 0.11964576964000685): Counter({True: 785, 'fn': 113, 'fp': 102}), ('lrl2', 0.78671874592700897): Counter({True: 850, 'fp': 102, 'fn': 48}), ('scv-rbf', 0.13087178368514088): Counter({True: 825, 'fp': 121, 'fn': 54}), ('scv-rbf', 0.13687381066422019): Counter({True: 787, 'fp': 111, 'fn': 102}), ('scv-rbf', 0.52547307309743674): Counter({True: 855, 'fp': 86, 'fn': 59}), ('lrl2', 0.11964576964000685): Counter({True: 710, 'fp': 199, 'fn': 91}), ('lrl1', 0.90000000000000002): Counter({True: 824, 'fp': 104, 'fn': 72}), ('scv-lin', 0.12513295042940997): Counter({True: 787, 'fp': 113, 'fn': 100}), ('lrl1', 0.40151746870177241): Counter({True: 761, 'fp': 132, 'fn': 107}), ('scv-lin', 0.1791291974140875): Counter({True: 780, 'fp': 213, 'fn': 7}), ('lrl1', 0.48039866566730921): Counter({True: 822, 'fp': 91, 'fn': 87}), ('lrl2', 0.62870630255842397): Counter({True: 840, 'fp': 111, 'fn': 49})}"
       ]
      },
      {
       "output_type": "stream",
       "stream": "stdout",
       "text": [
        "\n"
       ]
      }
     ],
     "prompt_number": 203
    },
    {
     "cell_type": "code",
     "collapsed": false,
     "input": [
      "#Bs=[b for b in sorted(Stat)]\n",
      "Bs=np.logspace(log10(0.1),log10(0.9))\n",
      "T ={method:[Stat[method,b][True]  for b in Bs] for method in MLtools}\n",
      "FP={method:[Stat[method,b]['fp']  for b in Bs] for method in MLtools}\n",
      "FN={method:[Stat[method,b]['fn']  for b in Bs] for method in MLtools}\n",
      "#R=np.array(FP).astype(np.float)/np.array(FN)\n",
      "\n",
      "\n",
      "plot(Bs,T[\"lrl1\"],c='r')\n",
      "plot(Bs,T[\"lrl2\"],c='g')\n",
      "plot(Bs,T[\"scv-rbf\"],c='b')\n",
      "plot(Bs,T[\"scv-sig\"],c='c')\n",
      "plot(Bs,T[\"scv-lin\"],c='m')"
     ],
     "language": "python",
     "metadata": {},
     "outputs": [
      {
       "output_type": "stream",
       "stream": "stderr",
       "text": [
        "Exception in Tkinter callback\n",
        "Traceback (most recent call last):\n",
        "  File \"/usr/lib/python2.7/lib-tk/Tkinter.py\", line 1489, in __call__\n",
        "    return self.func(*args)\n",
        "  File \"/usr/lib/python2.7/lib-tk/Tkinter.py\", line 536, in callit\n",
        "    func(*args)\n",
        "  File \"/usr/lib/pymodules/python2.7/matplotlib/backends/backend_tkagg.py\", line 363, in idle_draw\n",
        "    self.draw()\n",
        "  File \"/usr/lib/pymodules/python2.7/matplotlib/backends/backend_tkagg.py\", line 348, in draw\n",
        "    FigureCanvasAgg.draw(self)\n",
        "  File \"/usr/lib/pymodules/python2.7/matplotlib/backends/backend_agg.py\", line 451, in draw\n",
        "    self.figure.draw(self.renderer)\n",
        "  File \"/usr/lib/pymodules/python2.7/matplotlib/artist.py\", line 55, in draw_wrapper\n",
        "    draw(artist, renderer, *args, **kwargs)\n",
        "  File \"/usr/lib/pymodules/python2.7/matplotlib/figure.py\", line 1034, in draw\n",
        "    func(*args)\n",
        "  File \"/usr/lib/pymodules/python2.7/matplotlib/artist.py\", line 55, in draw_wrapper\n",
        "    draw(artist, renderer, *args, **kwargs)\n",
        "  File \"/usr/lib/pymodules/python2.7/matplotlib/axes.py\", line 2086, in draw\n",
        "    a.draw(renderer)\n",
        "  File \"/usr/lib/pymodules/python2.7/matplotlib/artist.py\", line 55, in draw_wrapper\n",
        "    draw(artist, renderer, *args, **kwargs)\n",
        "  File \"/usr/lib/pymodules/python2.7/matplotlib/lines.py\", line 529, in draw\n",
        "    ln_color_rgba = self._get_rgba_ln_color()\n",
        "  File \"/usr/lib/pymodules/python2.7/matplotlib/lines.py\", line 1038, in _get_rgba_ln_color\n",
        "    rgba_ln = colorConverter.to_rgba(ln_color, self._alpha)\n",
        "  File \"/usr/lib/pymodules/python2.7/matplotlib/colors.py\", line 365, in to_rgba\n",
        "    'to_rgba: Invalid rgba arg \"%s\"\\n%s' % (str(arg), exc))\n",
        "ValueError: to_rgba: Invalid rgba arg \"p\"\n",
        "to_rgb: Invalid rgb arg \"p\"\n",
        "could not convert string to float: p\n"
       ]
      },
      {
       "metadata": {},
       "output_type": "pyout",
       "prompt_number": 215,
       "text": [
        "[<matplotlib.lines.Line2D at 0x7fdd337d7cd0>]"
       ]
      }
     ],
     "prompt_number": 215
    },
    {
     "cell_type": "code",
     "collapsed": false,
     "input": [
      "scatter(B,-np.log(R))\n",
      "plot(B,(np.array(T)*1./nv),c='r')"
     ],
     "language": "python",
     "metadata": {},
     "outputs": [
      {
       "metadata": {},
       "output_type": "pyout",
       "prompt_number": 106,
       "text": [
        "[<matplotlib.lines.Line2D at 0x7fdd34a6bf50>]"
       ]
      }
     ],
     "prompt_number": 106
    },
    {
     "cell_type": "code",
     "collapsed": false,
     "input": [
      "C=np.array([Models[b].coef_[0] for b in B])\n",
      "\n"
     ],
     "language": "python",
     "metadata": {},
     "outputs": [],
     "prompt_number": 133
    },
    {
     "cell_type": "code",
     "collapsed": false,
     "input": [
      "imshow(C[30:40])"
     ],
     "language": "python",
     "metadata": {},
     "outputs": [
      {
       "metadata": {},
       "output_type": "pyout",
       "prompt_number": 139,
       "text": [
        "<matplotlib.image.AxesImage at 0x7fdd345e9390>"
       ]
      }
     ],
     "prompt_number": 139
    },
    {
     "cell_type": "code",
     "collapsed": false,
     "input": [
      "T.keys()\n"
     ],
     "language": "python",
     "metadata": {},
     "outputs": [
      {
       "metadata": {},
       "output_type": "pyout",
       "prompt_number": 208,
       "text": [
        "['lrl1']"
       ]
      }
     ],
     "prompt_number": 208
    },
    {
     "cell_type": "code",
     "collapsed": false,
     "input": [
      "mm=np.array([[ Models[B[0]].decision_function([x,y,2,0.,0.])[0] for x in np.arange(0,4,0.03)] for y in np.arange(0,4,0.03)])"
     ],
     "language": "python",
     "metadata": {},
     "outputs": [],
     "prompt_number": 199
    },
    {
     "cell_type": "code",
     "collapsed": false,
     "input": [
      "imshow(mm)\n"
     ],
     "language": "python",
     "metadata": {},
     "outputs": [
      {
       "metadata": {},
       "output_type": "pyout",
       "prompt_number": 200,
       "text": [
        "<matplotlib.image.AxesImage at 0x7fdd33d6e090>"
       ]
      }
     ],
     "prompt_number": 200
    },
    {
     "cell_type": "code",
     "collapsed": false,
     "input": [
      "Models[B[0]].decision_function([1,1,2,0.,0.])\n"
     ],
     "language": "python",
     "metadata": {},
     "outputs": [
      {
       "metadata": {},
       "output_type": "pyout",
       "prompt_number": 198,
       "text": [
        "array([ 0.53287636])"
       ]
      }
     ],
     "prompt_number": 198
    },
    {
     "cell_type": "code",
     "collapsed": false,
     "input": [],
     "language": "python",
     "metadata": {},
     "outputs": []
    }
   ],
   "metadata": {}
  }
 ]
}